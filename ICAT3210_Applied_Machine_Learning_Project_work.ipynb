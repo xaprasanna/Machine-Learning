{
 "cells": [
  {
   "cell_type": "markdown",
   "id": "0gMpqsMeTfql",
   "metadata": {
    "id": "0gMpqsMeTfql"
   },
   "source": [
    "# ICAT3210 Applied Machine Learning\n",
    "\n",
    "## Project work\n",
    "\n",
    "__Distinguish between the presence and absence of cardiac arrhythmia and classify it in one of the 16 groups.__"
   ]
  },
  {
   "cell_type": "markdown",
   "id": "BPrHihh3Tfqp",
   "metadata": {
    "id": "BPrHihh3Tfqp"
   },
   "source": [
    "Used libraries"
   ]
  },
  {
   "cell_type": "code",
   "execution_count": 1,
   "id": "zn1pWl0tTfqq",
   "metadata": {
    "id": "zn1pWl0tTfqq"
   },
   "outputs": [],
   "source": [
    "import pandas as pd\n",
    "import numpy as np\n",
    "import matplotlib.pyplot as plt\n",
    "import seaborn as sns\n",
    "\n",
    "#Better looking plots\n",
    "%matplotlib inline     "
   ]
  },
  {
   "cell_type": "markdown",
   "id": "CjAVTxuLTfqr",
   "metadata": {
    "id": "CjAVTxuLTfqr"
   },
   "source": [
    "Read data from file arrhythmia.data, data is in text form. File needs to be in same folder as this file."
   ]
  },
  {
   "cell_type": "code",
   "execution_count": 2,
   "id": "M_M1juOMTfqs",
   "metadata": {
    "id": "M_M1juOMTfqs"
   },
   "outputs": [],
   "source": [
    "data = pd.read_csv('arrhythmia.data')"
   ]
  },
  {
   "cell_type": "code",
   "execution_count": 3,
   "id": "nGFf-zsuTfqs",
   "metadata": {
    "colab": {
     "base_uri": "https://localhost:8080/"
    },
    "id": "nGFf-zsuTfqs",
    "outputId": "59646e06-b428-4785-9d07-fc0607fbea2f"
   },
   "outputs": [
    {
     "data": {
      "text/plain": [
       "(451, 280)"
      ]
     },
     "execution_count": 3,
     "metadata": {},
     "output_type": "execute_result"
    }
   ],
   "source": [
    "data.shape"
   ]
  },
  {
   "cell_type": "markdown",
   "id": "KQVr49lHTfqt",
   "metadata": {
    "id": "KQVr49lHTfqt"
   },
   "source": [
    "Data has 451 rows, which is one less than there should be. Material has 279 attributes and one column for class, so 280 columns together."
   ]
  },
  {
   "cell_type": "code",
   "execution_count": 4,
   "id": "PFOBOq4FTfqu",
   "metadata": {
    "colab": {
     "base_uri": "https://localhost:8080/",
     "height": 255
    },
    "id": "PFOBOq4FTfqu",
    "outputId": "4abecc8a-4af4-4aed-8038-f66787939a60"
   },
   "outputs": [
    {
     "data": {
      "text/html": [
       "<div>\n",
       "<style scoped>\n",
       "    .dataframe tbody tr th:only-of-type {\n",
       "        vertical-align: middle;\n",
       "    }\n",
       "\n",
       "    .dataframe tbody tr th {\n",
       "        vertical-align: top;\n",
       "    }\n",
       "\n",
       "    .dataframe thead th {\n",
       "        text-align: right;\n",
       "    }\n",
       "</style>\n",
       "<table border=\"1\" class=\"dataframe\">\n",
       "  <thead>\n",
       "    <tr style=\"text-align: right;\">\n",
       "      <th></th>\n",
       "      <th>75</th>\n",
       "      <th>0</th>\n",
       "      <th>190</th>\n",
       "      <th>80</th>\n",
       "      <th>91</th>\n",
       "      <th>193</th>\n",
       "      <th>371</th>\n",
       "      <th>174</th>\n",
       "      <th>121</th>\n",
       "      <th>-16</th>\n",
       "      <th>...</th>\n",
       "      <th>0.0.38</th>\n",
       "      <th>9.0</th>\n",
       "      <th>-0.9</th>\n",
       "      <th>0.0.39</th>\n",
       "      <th>0.0.40</th>\n",
       "      <th>0.9.3</th>\n",
       "      <th>2.9.1</th>\n",
       "      <th>23.3</th>\n",
       "      <th>49.4</th>\n",
       "      <th>8</th>\n",
       "    </tr>\n",
       "  </thead>\n",
       "  <tbody>\n",
       "    <tr>\n",
       "      <th>0</th>\n",
       "      <td>56</td>\n",
       "      <td>1</td>\n",
       "      <td>165</td>\n",
       "      <td>64</td>\n",
       "      <td>81</td>\n",
       "      <td>174</td>\n",
       "      <td>401</td>\n",
       "      <td>149</td>\n",
       "      <td>39</td>\n",
       "      <td>25</td>\n",
       "      <td>...</td>\n",
       "      <td>0.0</td>\n",
       "      <td>8.5</td>\n",
       "      <td>0.0</td>\n",
       "      <td>0.0</td>\n",
       "      <td>0.0</td>\n",
       "      <td>0.2</td>\n",
       "      <td>2.1</td>\n",
       "      <td>20.4</td>\n",
       "      <td>38.8</td>\n",
       "      <td>6</td>\n",
       "    </tr>\n",
       "    <tr>\n",
       "      <th>1</th>\n",
       "      <td>54</td>\n",
       "      <td>0</td>\n",
       "      <td>172</td>\n",
       "      <td>95</td>\n",
       "      <td>138</td>\n",
       "      <td>163</td>\n",
       "      <td>386</td>\n",
       "      <td>185</td>\n",
       "      <td>102</td>\n",
       "      <td>96</td>\n",
       "      <td>...</td>\n",
       "      <td>0.0</td>\n",
       "      <td>9.5</td>\n",
       "      <td>-2.4</td>\n",
       "      <td>0.0</td>\n",
       "      <td>0.0</td>\n",
       "      <td>0.3</td>\n",
       "      <td>3.4</td>\n",
       "      <td>12.3</td>\n",
       "      <td>49.0</td>\n",
       "      <td>10</td>\n",
       "    </tr>\n",
       "    <tr>\n",
       "      <th>2</th>\n",
       "      <td>55</td>\n",
       "      <td>0</td>\n",
       "      <td>175</td>\n",
       "      <td>94</td>\n",
       "      <td>100</td>\n",
       "      <td>202</td>\n",
       "      <td>380</td>\n",
       "      <td>179</td>\n",
       "      <td>143</td>\n",
       "      <td>28</td>\n",
       "      <td>...</td>\n",
       "      <td>0.0</td>\n",
       "      <td>12.2</td>\n",
       "      <td>-2.2</td>\n",
       "      <td>0.0</td>\n",
       "      <td>0.0</td>\n",
       "      <td>0.4</td>\n",
       "      <td>2.6</td>\n",
       "      <td>34.6</td>\n",
       "      <td>61.6</td>\n",
       "      <td>1</td>\n",
       "    </tr>\n",
       "    <tr>\n",
       "      <th>3</th>\n",
       "      <td>75</td>\n",
       "      <td>0</td>\n",
       "      <td>190</td>\n",
       "      <td>80</td>\n",
       "      <td>88</td>\n",
       "      <td>181</td>\n",
       "      <td>360</td>\n",
       "      <td>177</td>\n",
       "      <td>103</td>\n",
       "      <td>-16</td>\n",
       "      <td>...</td>\n",
       "      <td>0.0</td>\n",
       "      <td>13.1</td>\n",
       "      <td>-3.6</td>\n",
       "      <td>0.0</td>\n",
       "      <td>0.0</td>\n",
       "      <td>-0.1</td>\n",
       "      <td>3.9</td>\n",
       "      <td>25.4</td>\n",
       "      <td>62.8</td>\n",
       "      <td>7</td>\n",
       "    </tr>\n",
       "    <tr>\n",
       "      <th>4</th>\n",
       "      <td>13</td>\n",
       "      <td>0</td>\n",
       "      <td>169</td>\n",
       "      <td>51</td>\n",
       "      <td>100</td>\n",
       "      <td>167</td>\n",
       "      <td>321</td>\n",
       "      <td>174</td>\n",
       "      <td>91</td>\n",
       "      <td>107</td>\n",
       "      <td>...</td>\n",
       "      <td>-0.6</td>\n",
       "      <td>12.2</td>\n",
       "      <td>-2.8</td>\n",
       "      <td>0.0</td>\n",
       "      <td>0.0</td>\n",
       "      <td>0.9</td>\n",
       "      <td>2.2</td>\n",
       "      <td>13.5</td>\n",
       "      <td>31.1</td>\n",
       "      <td>14</td>\n",
       "    </tr>\n",
       "  </tbody>\n",
       "</table>\n",
       "<p>5 rows × 280 columns</p>\n",
       "</div>"
      ],
      "text/plain": [
       "   75  0  190  80   91  193  371  174  121  -16  ... 0.0.38   9.0 -0.9 0.0.39  \\\n",
       "0  56  1  165  64   81  174  401  149   39   25  ...    0.0   8.5  0.0    0.0   \n",
       "1  54  0  172  95  138  163  386  185  102   96  ...    0.0   9.5 -2.4    0.0   \n",
       "2  55  0  175  94  100  202  380  179  143   28  ...    0.0  12.2 -2.2    0.0   \n",
       "3  75  0  190  80   88  181  360  177  103  -16  ...    0.0  13.1 -3.6    0.0   \n",
       "4  13  0  169  51  100  167  321  174   91  107  ...   -0.6  12.2 -2.8    0.0   \n",
       "\n",
       "  0.0.40  0.9.3  2.9.1  23.3  49.4   8  \n",
       "0    0.0    0.2    2.1  20.4  38.8   6  \n",
       "1    0.0    0.3    3.4  12.3  49.0  10  \n",
       "2    0.0    0.4    2.6  34.6  61.6   1  \n",
       "3    0.0   -0.1    3.9  25.4  62.8   7  \n",
       "4    0.0    0.9    2.2  13.5  31.1  14  \n",
       "\n",
       "[5 rows x 280 columns]"
      ]
     },
     "execution_count": 4,
     "metadata": {},
     "output_type": "execute_result"
    }
   ],
   "source": [
    "data.head()"
   ]
  },
  {
   "cell_type": "markdown",
   "id": "SCOHsSQlTfqv",
   "metadata": {
    "id": "SCOHsSQlTfqv"
   },
   "source": [
    "Data is missing attribute labels and one of the instances is taken to be label row."
   ]
  },
  {
   "cell_type": "markdown",
   "id": "nXIXxnT3Tfqv",
   "metadata": {
    "id": "nXIXxnT3Tfqv"
   },
   "source": [
    "Let's add labels to file. Labels for attributes are found in arrhythmia.names file."
   ]
  },
  {
   "cell_type": "code",
   "execution_count": 5,
   "id": "P5RClmjXTfqw",
   "metadata": {
    "id": "P5RClmjXTfqw"
   },
   "outputs": [],
   "source": [
    "column_labels = ['Age','Sex','Height','Weight','QRS_duration','PR_interval','QT_interval','T_interval','P_interval','QRS_angle',\n",
    "                 'T_angle','P_angle','QRST_angle','J_angle','Heart_rate',\n",
    "                 'Q_wave_DI_Avg_width','R_wave_DI_Avg_width','S_wave_DI_Avg_width','r_wave_DI_Avg_width','s_wave_DI_Avg_width','intrinsic_deflections_DI','ragged_R_DI',\n",
    "                 'diphasic_der_R_DI','ragged_P_DI','diphasic_der_P_DI','ragged_T_DI','diphasic_der_T_DI',\n",
    "                 'Q_wave_DII_Avg_width','R_wave_DII_Avg_width','S_wave_DII_Avg_width','r_wave_DII_Avg_width','s_wave_DII_Avg_width','intrinsic_deflections_DII','ragged_R_DII',\n",
    "                 'diphasic_der_R_DII','ragged_P_DII','diphasic_der_P_DII','ragged_T_DII','diphasic_der_T_DII',\n",
    "                 'Q_wave_DIII_Avg_width','R_wave_DIII_Avg_width','S_wave_DIII_Avg_width','r_wave_DIII_Avg_width','s_wave_DIII_Avg_width','intrinsic_deflections_DIII','ragged_R_DIII',\n",
    "                 'diphasic_der_R_DIII','ragged_P_DIII','diphasic_der_P_DIII','ragged_T_DIII','diphasic_der_T_DIII',\n",
    "                 'Q_wave_AVR_Avg_width','R_wave_AVR_Avg_width','S_wave_AVR_Avg_width','r_wave_AVR_Avg_width','s_wave_AVR_Avg_width','intrinsic_deflections_AVR','ragged_R_AVR',\n",
    "                 'diphasic_der_R_AVR','ragged_P_AVR','diphasic_der_P_AVR','ragged_T_AVR','diphasic_der_T_AVR',\n",
    "                 'Q_wave_AVL_Avg_width','R_wave_AVL_Avg_width','S_wave_AVL_Avg_width','r_wave_AVL_Avg_width','s_wave_AVL_Avg_width','intrinsic_deflections_AVL','ragged_R_AVL',\n",
    "                 'diphasic_der_R_AVL','ragged_P_AVL','diphasic_der_P_AVL','ragged_T_AVL','diphasic_der_T_AVL',\n",
    "                 'Q_wave_AVF_Avg_width','R_wave_AVF_Avg_width','S_wave_AVF_Avg_width','r_wave_AVF_Avg_width','s_wave_AVF_Avg_width','intrinsic_deflections_AVF','ragged_R_AVF',\n",
    "                 'diphasic_der_R_AVF','ragged_P_AVF','diphasic_der_P_AVF','ragged_T_AVF','diphasic_der_T_AVF',\n",
    "                 'Q_wave_V1_Avg_width','R_wave_V1_Avg_width','S_wave_V1_Avg_width','r_wave_V1_Avg_width','s_wave_V1_Avg_width','intrinsic_deflections_V1','ragged_R_V1',\n",
    "                 'diphasic_der_R_V1','ragged_P_V1','diphasic_der_P_V1','ragged_T_V1','diphasic_der_T_V1',\n",
    "                 'Q_wave_V2_Avg_width','R_wave_V2_Avg_width','S_wave_V2_Avg_width','r_wave_V2_Avg_width','s_wave_V2_Avg_width','intrinsic_deflections_V2','ragged_R_V2',\n",
    "                 'diphasic_der_R_V2','ragged_P_V2','diphasic_der_P_V2','ragged_T_V2','diphasic_der_T_V2',\n",
    "                 'Q_wave_V3_Avg_width','R_wave_V3_Avg_width','S_wave_V3_Avg_width','r_wave_V3_Avg_width','s_wave_V3_Avg_width','intrinsic_deflections_V3','ragged_R_V3',\n",
    "                 'diphasic_der_R_V3','ragged_P_V3','diphasic_der_P_V3','ragged_T_V3','diphasic_der_T_V3',\n",
    "                 'Q_wave_V4_Avg_width','R_wave_V4_Avg_width','S_wave_V4_Avg_width','r_wave_V4_Avg_width','s_wave_V4_Avg_width','intrinsic_deflections_V4','ragged_R_V4',\n",
    "                 'diphasic_der_R_V4','ragged_P_V4','diphasic_der_P_V4','ragged_T_V4','diphasic_der_T_V4',\n",
    "                 'Q_wave_V5_Avg_width','R_wave_V5_Avg_width','S_wave_V5_Avg_width','r_wave_V5_Avg_width','s_wave_V5_Avg_width','intrinsic_deflections_V5','ragged_R_V5',\n",
    "                 'diphasic_der_R_V5','ragged_P_V5','diphasic_der_P_V5','ragged_T_V5','diphasic_der_T_V5',\n",
    "                 'Q_wave_V6_Avg_width','R_wave_V6_Avg_width','S_wave_V6_Avg_width','r_wave_V6_Avg_width','s_wave_V6_Avg_width','intrinsic_deflections_V6','ragged_R_V6',\n",
    "                 'diphasic_der_R_V6','ragged_P_V6','diphasic_der_P_V6','ragged_T_V6','diphasic_der_T_V6',\n",
    "                 'JJ_wave_DI_Amp','Q_wave_DI_Amp','R_wave_DI_Amp','S_wave_DI_Amp','r_wave_DI_Amp','s_wave_DI_Amp','P_wave_DI_Amp','T_wave_DI_Amp','QRSA_DI','QRSTA_DI',\n",
    "                 'JJ_wave_DII_Amp','Q_wave_DII_Amp','R_wave_DII_Amp','S_wave_DII_Amp','r_wave_DII_Amp','s_wave_DII_Amp','P_wave_DII_Amp','T_wave_DII_Amp','QRSA_DII','QRSTA_DII',\n",
    "                 'JJ_wave_DIII_Amp','Q_wave_DIII_Amp','R_wave_DIII_Amp','S_wave_DIII_Amp','r_wave_DIII_Amp','s_wave_DIII_Amp','P_wave_DIII_Amp','T_wave_DIII_Amp','QRSA_DIII','QRSTA_DIII',\n",
    "                 'JJ_wave_AVR_Amp','Q_wave_AVR_Amp','R_wave_AVR_Amp','S_wave_AVR_Amp','r_wave_AVR_Amp','s_wave_AVR_Amp','P_wave_AVR_Amp','T_wave_AVR_Amp','QRSA_AVR','QRSTA_AVR',\n",
    "                 'JJ_wave_AVL_Amp','Q_wave_AVL_Amp','R_wave_AVL_Amp','S_wave_AVL_Amp','r_wave_AVL_Amp','s_wave_AVL_Amp','P_wave_AVL_Amp','T_wave_AVL_Amp','QRSA_AVL','QRSTA_AVL',\n",
    "                 'JJ_wave_AVF_Amp','Q_wave_AVF_Amp','R_wave_AVF_Amp','S_wave_AVF_Amp','r_wave_AVF_Amp','s_wave_AVF_Amp','P_wave_AVF_Amp','T_wave_AVF_Amp','QRSA_AVF','QRSTA_AVF',\n",
    "                 'JJ_wave_V1_Amp','Q_wave_V1_Amp','R_wave_V1_Amp','S_wave_V1_Amp','r_wave_V1_Amp','s_wave_V1_Amp','P_wave_V1_Amp','T_wave_V1_Amp','QRSA_V1','QRSTA_V1',\n",
    "                 'JJ_wave_V2_Amp','Q_wave_V2_Amp','R_wave_V2_Amp','S_wave_V2_Amp','r_wave_V2_Amp','s_wave_V2_Amp','P_wave_V2_Amp','T_wave_V2_Amp','QRSA_V2','QRSTA_V2',\n",
    "                 'JJ_wave_V3_Amp','Q_wave_V3_Amp','R_wave_V3_Amp','S_wave_V3_Amp','r_wave_V3_Amp','s_wave_V3_Amp','P_wave_V3_Amp','T_wave_V3_Amp','QRSA_V3','QRSTA_V3',\n",
    "                 'JJ_wave_V4_Amp','Q_wave_V4_Amp','R_wave_V4_Amp','S_wave_V4_Amp','r_wave_V4_Amp','s_wave_V4_Amp','P_wave_V4_Amp','T_wave_V4_Amp','QRSA_V4','QRSTA_V4',\n",
    "                 'JJ_wave_V5_Amp','Q_wave_V5_Amp','R_wave_V5_Amp','S_wave_V5_Amp','r_wave_V5_Amp','s_wave_V5_Amp','P_wave_V5_Amp','T_wave_V5_Amp','QRSA_V5','QRSTA_V5',\n",
    "                 'JJ_wave_V6_Amp','Q_wave_V6_Amp','R_wave_V6_Amp','S_wave_V6_Amp','r_wave_V6_Amp','s_wave_V6_Amp','P_wave_V6_Amp','T_wave_V6_Amp','QRSA_V6','QRSTA_V6',\n",
    "                 'Class']\n",
    "     \n",
    "     "
   ]
  },
  {
   "cell_type": "markdown",
   "id": "xOdHzt03Tfqz",
   "metadata": {
    "id": "xOdHzt03Tfqz"
   },
   "source": [
    "Labels can to be combined to arrhythmia.data file data when data is read to Pandas dataframe."
   ]
  },
  {
   "cell_type": "markdown",
   "id": "0ZdI2mGPTfq0",
   "metadata": {
    "id": "0ZdI2mGPTfq0"
   },
   "source": [
    "Data from arrhythmia.data is read without header to data dataframe."
   ]
  },
  {
   "cell_type": "code",
   "execution_count": 6,
   "id": "6jO3no4LTfq0",
   "metadata": {
    "colab": {
     "base_uri": "https://localhost:8080/",
     "height": 255
    },
    "id": "6jO3no4LTfq0",
    "outputId": "833babbe-e32b-4f1b-f3e9-c4c8feb39538"
   },
   "outputs": [
    {
     "data": {
      "text/html": [
       "<div>\n",
       "<style scoped>\n",
       "    .dataframe tbody tr th:only-of-type {\n",
       "        vertical-align: middle;\n",
       "    }\n",
       "\n",
       "    .dataframe tbody tr th {\n",
       "        vertical-align: top;\n",
       "    }\n",
       "\n",
       "    .dataframe thead th {\n",
       "        text-align: right;\n",
       "    }\n",
       "</style>\n",
       "<table border=\"1\" class=\"dataframe\">\n",
       "  <thead>\n",
       "    <tr style=\"text-align: right;\">\n",
       "      <th></th>\n",
       "      <th>0</th>\n",
       "      <th>1</th>\n",
       "      <th>2</th>\n",
       "      <th>3</th>\n",
       "      <th>4</th>\n",
       "      <th>5</th>\n",
       "      <th>6</th>\n",
       "      <th>7</th>\n",
       "      <th>8</th>\n",
       "      <th>9</th>\n",
       "      <th>...</th>\n",
       "      <th>270</th>\n",
       "      <th>271</th>\n",
       "      <th>272</th>\n",
       "      <th>273</th>\n",
       "      <th>274</th>\n",
       "      <th>275</th>\n",
       "      <th>276</th>\n",
       "      <th>277</th>\n",
       "      <th>278</th>\n",
       "      <th>279</th>\n",
       "    </tr>\n",
       "  </thead>\n",
       "  <tbody>\n",
       "    <tr>\n",
       "      <th>0</th>\n",
       "      <td>75</td>\n",
       "      <td>0</td>\n",
       "      <td>190</td>\n",
       "      <td>80</td>\n",
       "      <td>91</td>\n",
       "      <td>193</td>\n",
       "      <td>371</td>\n",
       "      <td>174</td>\n",
       "      <td>121</td>\n",
       "      <td>-16</td>\n",
       "      <td>...</td>\n",
       "      <td>0.0</td>\n",
       "      <td>9.0</td>\n",
       "      <td>-0.9</td>\n",
       "      <td>0.0</td>\n",
       "      <td>0.0</td>\n",
       "      <td>0.9</td>\n",
       "      <td>2.9</td>\n",
       "      <td>23.3</td>\n",
       "      <td>49.4</td>\n",
       "      <td>8</td>\n",
       "    </tr>\n",
       "    <tr>\n",
       "      <th>1</th>\n",
       "      <td>56</td>\n",
       "      <td>1</td>\n",
       "      <td>165</td>\n",
       "      <td>64</td>\n",
       "      <td>81</td>\n",
       "      <td>174</td>\n",
       "      <td>401</td>\n",
       "      <td>149</td>\n",
       "      <td>39</td>\n",
       "      <td>25</td>\n",
       "      <td>...</td>\n",
       "      <td>0.0</td>\n",
       "      <td>8.5</td>\n",
       "      <td>0.0</td>\n",
       "      <td>0.0</td>\n",
       "      <td>0.0</td>\n",
       "      <td>0.2</td>\n",
       "      <td>2.1</td>\n",
       "      <td>20.4</td>\n",
       "      <td>38.8</td>\n",
       "      <td>6</td>\n",
       "    </tr>\n",
       "    <tr>\n",
       "      <th>2</th>\n",
       "      <td>54</td>\n",
       "      <td>0</td>\n",
       "      <td>172</td>\n",
       "      <td>95</td>\n",
       "      <td>138</td>\n",
       "      <td>163</td>\n",
       "      <td>386</td>\n",
       "      <td>185</td>\n",
       "      <td>102</td>\n",
       "      <td>96</td>\n",
       "      <td>...</td>\n",
       "      <td>0.0</td>\n",
       "      <td>9.5</td>\n",
       "      <td>-2.4</td>\n",
       "      <td>0.0</td>\n",
       "      <td>0.0</td>\n",
       "      <td>0.3</td>\n",
       "      <td>3.4</td>\n",
       "      <td>12.3</td>\n",
       "      <td>49.0</td>\n",
       "      <td>10</td>\n",
       "    </tr>\n",
       "    <tr>\n",
       "      <th>3</th>\n",
       "      <td>55</td>\n",
       "      <td>0</td>\n",
       "      <td>175</td>\n",
       "      <td>94</td>\n",
       "      <td>100</td>\n",
       "      <td>202</td>\n",
       "      <td>380</td>\n",
       "      <td>179</td>\n",
       "      <td>143</td>\n",
       "      <td>28</td>\n",
       "      <td>...</td>\n",
       "      <td>0.0</td>\n",
       "      <td>12.2</td>\n",
       "      <td>-2.2</td>\n",
       "      <td>0.0</td>\n",
       "      <td>0.0</td>\n",
       "      <td>0.4</td>\n",
       "      <td>2.6</td>\n",
       "      <td>34.6</td>\n",
       "      <td>61.6</td>\n",
       "      <td>1</td>\n",
       "    </tr>\n",
       "    <tr>\n",
       "      <th>4</th>\n",
       "      <td>75</td>\n",
       "      <td>0</td>\n",
       "      <td>190</td>\n",
       "      <td>80</td>\n",
       "      <td>88</td>\n",
       "      <td>181</td>\n",
       "      <td>360</td>\n",
       "      <td>177</td>\n",
       "      <td>103</td>\n",
       "      <td>-16</td>\n",
       "      <td>...</td>\n",
       "      <td>0.0</td>\n",
       "      <td>13.1</td>\n",
       "      <td>-3.6</td>\n",
       "      <td>0.0</td>\n",
       "      <td>0.0</td>\n",
       "      <td>-0.1</td>\n",
       "      <td>3.9</td>\n",
       "      <td>25.4</td>\n",
       "      <td>62.8</td>\n",
       "      <td>7</td>\n",
       "    </tr>\n",
       "  </tbody>\n",
       "</table>\n",
       "<p>5 rows × 280 columns</p>\n",
       "</div>"
      ],
      "text/plain": [
       "   0    1    2    3    4    5    6    7    8    9    ...  270   271  272  273  \\\n",
       "0   75    0  190   80   91  193  371  174  121  -16  ...  0.0   9.0 -0.9  0.0   \n",
       "1   56    1  165   64   81  174  401  149   39   25  ...  0.0   8.5  0.0  0.0   \n",
       "2   54    0  172   95  138  163  386  185  102   96  ...  0.0   9.5 -2.4  0.0   \n",
       "3   55    0  175   94  100  202  380  179  143   28  ...  0.0  12.2 -2.2  0.0   \n",
       "4   75    0  190   80   88  181  360  177  103  -16  ...  0.0  13.1 -3.6  0.0   \n",
       "\n",
       "   274  275  276   277   278  279  \n",
       "0  0.0  0.9  2.9  23.3  49.4    8  \n",
       "1  0.0  0.2  2.1  20.4  38.8    6  \n",
       "2  0.0  0.3  3.4  12.3  49.0   10  \n",
       "3  0.0  0.4  2.6  34.6  61.6    1  \n",
       "4  0.0 -0.1  3.9  25.4  62.8    7  \n",
       "\n",
       "[5 rows x 280 columns]"
      ]
     },
     "execution_count": 6,
     "metadata": {},
     "output_type": "execute_result"
    }
   ],
   "source": [
    "data = pd.read_csv('arrhythmia.data', header = None)\n",
    "data.head()"
   ]
  },
  {
   "cell_type": "markdown",
   "id": "z8YjufCOTfq0",
   "metadata": {
    "id": "z8YjufCOTfq0"
   },
   "source": [
    "Labels are added to dataframe data."
   ]
  },
  {
   "cell_type": "code",
   "execution_count": 7,
   "id": "tbosqQ2cTfq1",
   "metadata": {
    "id": "tbosqQ2cTfq1"
   },
   "outputs": [],
   "source": [
    "data.columns = column_labels"
   ]
  },
  {
   "cell_type": "code",
   "execution_count": 8,
   "id": "mkiVByDITfq1",
   "metadata": {
    "colab": {
     "base_uri": "https://localhost:8080/",
     "height": 255
    },
    "id": "mkiVByDITfq1",
    "outputId": "41abdf47-a258-4eb0-bef9-f2408e3fc3f4"
   },
   "outputs": [
    {
     "data": {
      "text/html": [
       "<div>\n",
       "<style scoped>\n",
       "    .dataframe tbody tr th:only-of-type {\n",
       "        vertical-align: middle;\n",
       "    }\n",
       "\n",
       "    .dataframe tbody tr th {\n",
       "        vertical-align: top;\n",
       "    }\n",
       "\n",
       "    .dataframe thead th {\n",
       "        text-align: right;\n",
       "    }\n",
       "</style>\n",
       "<table border=\"1\" class=\"dataframe\">\n",
       "  <thead>\n",
       "    <tr style=\"text-align: right;\">\n",
       "      <th></th>\n",
       "      <th>Age</th>\n",
       "      <th>Sex</th>\n",
       "      <th>Height</th>\n",
       "      <th>Weight</th>\n",
       "      <th>QRS_duration</th>\n",
       "      <th>PR_interval</th>\n",
       "      <th>QT_interval</th>\n",
       "      <th>T_interval</th>\n",
       "      <th>P_interval</th>\n",
       "      <th>QRS_angle</th>\n",
       "      <th>...</th>\n",
       "      <th>Q_wave_V6_Amp</th>\n",
       "      <th>R_wave_V6_Amp</th>\n",
       "      <th>S_wave_V6_Amp</th>\n",
       "      <th>r_wave_V6_Amp</th>\n",
       "      <th>s_wave_V6_Amp</th>\n",
       "      <th>P_wave_V6_Amp</th>\n",
       "      <th>T_wave_V6_Amp</th>\n",
       "      <th>QRSA_V6</th>\n",
       "      <th>QRSTA_V6</th>\n",
       "      <th>Class</th>\n",
       "    </tr>\n",
       "  </thead>\n",
       "  <tbody>\n",
       "    <tr>\n",
       "      <th>0</th>\n",
       "      <td>75</td>\n",
       "      <td>0</td>\n",
       "      <td>190</td>\n",
       "      <td>80</td>\n",
       "      <td>91</td>\n",
       "      <td>193</td>\n",
       "      <td>371</td>\n",
       "      <td>174</td>\n",
       "      <td>121</td>\n",
       "      <td>-16</td>\n",
       "      <td>...</td>\n",
       "      <td>0.0</td>\n",
       "      <td>9.0</td>\n",
       "      <td>-0.9</td>\n",
       "      <td>0.0</td>\n",
       "      <td>0.0</td>\n",
       "      <td>0.9</td>\n",
       "      <td>2.9</td>\n",
       "      <td>23.3</td>\n",
       "      <td>49.4</td>\n",
       "      <td>8</td>\n",
       "    </tr>\n",
       "    <tr>\n",
       "      <th>1</th>\n",
       "      <td>56</td>\n",
       "      <td>1</td>\n",
       "      <td>165</td>\n",
       "      <td>64</td>\n",
       "      <td>81</td>\n",
       "      <td>174</td>\n",
       "      <td>401</td>\n",
       "      <td>149</td>\n",
       "      <td>39</td>\n",
       "      <td>25</td>\n",
       "      <td>...</td>\n",
       "      <td>0.0</td>\n",
       "      <td>8.5</td>\n",
       "      <td>0.0</td>\n",
       "      <td>0.0</td>\n",
       "      <td>0.0</td>\n",
       "      <td>0.2</td>\n",
       "      <td>2.1</td>\n",
       "      <td>20.4</td>\n",
       "      <td>38.8</td>\n",
       "      <td>6</td>\n",
       "    </tr>\n",
       "    <tr>\n",
       "      <th>2</th>\n",
       "      <td>54</td>\n",
       "      <td>0</td>\n",
       "      <td>172</td>\n",
       "      <td>95</td>\n",
       "      <td>138</td>\n",
       "      <td>163</td>\n",
       "      <td>386</td>\n",
       "      <td>185</td>\n",
       "      <td>102</td>\n",
       "      <td>96</td>\n",
       "      <td>...</td>\n",
       "      <td>0.0</td>\n",
       "      <td>9.5</td>\n",
       "      <td>-2.4</td>\n",
       "      <td>0.0</td>\n",
       "      <td>0.0</td>\n",
       "      <td>0.3</td>\n",
       "      <td>3.4</td>\n",
       "      <td>12.3</td>\n",
       "      <td>49.0</td>\n",
       "      <td>10</td>\n",
       "    </tr>\n",
       "    <tr>\n",
       "      <th>3</th>\n",
       "      <td>55</td>\n",
       "      <td>0</td>\n",
       "      <td>175</td>\n",
       "      <td>94</td>\n",
       "      <td>100</td>\n",
       "      <td>202</td>\n",
       "      <td>380</td>\n",
       "      <td>179</td>\n",
       "      <td>143</td>\n",
       "      <td>28</td>\n",
       "      <td>...</td>\n",
       "      <td>0.0</td>\n",
       "      <td>12.2</td>\n",
       "      <td>-2.2</td>\n",
       "      <td>0.0</td>\n",
       "      <td>0.0</td>\n",
       "      <td>0.4</td>\n",
       "      <td>2.6</td>\n",
       "      <td>34.6</td>\n",
       "      <td>61.6</td>\n",
       "      <td>1</td>\n",
       "    </tr>\n",
       "    <tr>\n",
       "      <th>4</th>\n",
       "      <td>75</td>\n",
       "      <td>0</td>\n",
       "      <td>190</td>\n",
       "      <td>80</td>\n",
       "      <td>88</td>\n",
       "      <td>181</td>\n",
       "      <td>360</td>\n",
       "      <td>177</td>\n",
       "      <td>103</td>\n",
       "      <td>-16</td>\n",
       "      <td>...</td>\n",
       "      <td>0.0</td>\n",
       "      <td>13.1</td>\n",
       "      <td>-3.6</td>\n",
       "      <td>0.0</td>\n",
       "      <td>0.0</td>\n",
       "      <td>-0.1</td>\n",
       "      <td>3.9</td>\n",
       "      <td>25.4</td>\n",
       "      <td>62.8</td>\n",
       "      <td>7</td>\n",
       "    </tr>\n",
       "  </tbody>\n",
       "</table>\n",
       "<p>5 rows × 280 columns</p>\n",
       "</div>"
      ],
      "text/plain": [
       "   Age  Sex  Height  Weight  QRS_duration  PR_interval  QT_interval  \\\n",
       "0   75    0     190      80            91          193          371   \n",
       "1   56    1     165      64            81          174          401   \n",
       "2   54    0     172      95           138          163          386   \n",
       "3   55    0     175      94           100          202          380   \n",
       "4   75    0     190      80            88          181          360   \n",
       "\n",
       "   T_interval  P_interval  QRS_angle  ... Q_wave_V6_Amp R_wave_V6_Amp  \\\n",
       "0         174         121        -16  ...           0.0           9.0   \n",
       "1         149          39         25  ...           0.0           8.5   \n",
       "2         185         102         96  ...           0.0           9.5   \n",
       "3         179         143         28  ...           0.0          12.2   \n",
       "4         177         103        -16  ...           0.0          13.1   \n",
       "\n",
       "  S_wave_V6_Amp r_wave_V6_Amp s_wave_V6_Amp  P_wave_V6_Amp  T_wave_V6_Amp  \\\n",
       "0          -0.9           0.0           0.0            0.9            2.9   \n",
       "1           0.0           0.0           0.0            0.2            2.1   \n",
       "2          -2.4           0.0           0.0            0.3            3.4   \n",
       "3          -2.2           0.0           0.0            0.4            2.6   \n",
       "4          -3.6           0.0           0.0           -0.1            3.9   \n",
       "\n",
       "   QRSA_V6  QRSTA_V6  Class  \n",
       "0     23.3      49.4      8  \n",
       "1     20.4      38.8      6  \n",
       "2     12.3      49.0     10  \n",
       "3     34.6      61.6      1  \n",
       "4     25.4      62.8      7  \n",
       "\n",
       "[5 rows x 280 columns]"
      ]
     },
     "execution_count": 8,
     "metadata": {},
     "output_type": "execute_result"
    }
   ],
   "source": [
    "data.head()"
   ]
  },
  {
   "cell_type": "code",
   "execution_count": 9,
   "id": "B_dfdOaaTfq1",
   "metadata": {
    "colab": {
     "base_uri": "https://localhost:8080/"
    },
    "id": "B_dfdOaaTfq1",
    "outputId": "ccc2f25a-ff47-4b60-ea47-489acd7b681d"
   },
   "outputs": [
    {
     "data": {
      "text/plain": [
       "(452, 280)"
      ]
     },
     "execution_count": 9,
     "metadata": {},
     "output_type": "execute_result"
    }
   ],
   "source": [
    "data.shape"
   ]
  },
  {
   "cell_type": "markdown",
   "id": "AuqhvoqeTfq1",
   "metadata": {
    "id": "AuqhvoqeTfq1"
   },
   "source": [
    "Now all instances and attributes are read correctly, like they are in the original data."
   ]
  },
  {
   "cell_type": "code",
   "execution_count": 10,
   "id": "jqnksFSvTfq2",
   "metadata": {
    "colab": {
     "base_uri": "https://localhost:8080/",
     "height": 350
    },
    "id": "jqnksFSvTfq2",
    "outputId": "626d0b72-5329-43eb-cccb-a1cf9cf350c0"
   },
   "outputs": [
    {
     "data": {
      "text/html": [
       "<div>\n",
       "<style scoped>\n",
       "    .dataframe tbody tr th:only-of-type {\n",
       "        vertical-align: middle;\n",
       "    }\n",
       "\n",
       "    .dataframe tbody tr th {\n",
       "        vertical-align: top;\n",
       "    }\n",
       "\n",
       "    .dataframe thead th {\n",
       "        text-align: right;\n",
       "    }\n",
       "</style>\n",
       "<table border=\"1\" class=\"dataframe\">\n",
       "  <thead>\n",
       "    <tr style=\"text-align: right;\">\n",
       "      <th></th>\n",
       "      <th>Age</th>\n",
       "      <th>Sex</th>\n",
       "      <th>Height</th>\n",
       "      <th>Weight</th>\n",
       "      <th>QRS_duration</th>\n",
       "      <th>PR_interval</th>\n",
       "      <th>QT_interval</th>\n",
       "      <th>T_interval</th>\n",
       "      <th>P_interval</th>\n",
       "      <th>QRS_angle</th>\n",
       "      <th>...</th>\n",
       "      <th>Q_wave_V6_Amp</th>\n",
       "      <th>R_wave_V6_Amp</th>\n",
       "      <th>S_wave_V6_Amp</th>\n",
       "      <th>r_wave_V6_Amp</th>\n",
       "      <th>s_wave_V6_Amp</th>\n",
       "      <th>P_wave_V6_Amp</th>\n",
       "      <th>T_wave_V6_Amp</th>\n",
       "      <th>QRSA_V6</th>\n",
       "      <th>QRSTA_V6</th>\n",
       "      <th>Class</th>\n",
       "    </tr>\n",
       "  </thead>\n",
       "  <tbody>\n",
       "    <tr>\n",
       "      <th>count</th>\n",
       "      <td>452.000000</td>\n",
       "      <td>452.000000</td>\n",
       "      <td>452.000000</td>\n",
       "      <td>452.000000</td>\n",
       "      <td>452.000000</td>\n",
       "      <td>452.000000</td>\n",
       "      <td>452.000000</td>\n",
       "      <td>452.000000</td>\n",
       "      <td>452.000000</td>\n",
       "      <td>452.000000</td>\n",
       "      <td>...</td>\n",
       "      <td>452.000000</td>\n",
       "      <td>452.000000</td>\n",
       "      <td>452.000000</td>\n",
       "      <td>452.000000</td>\n",
       "      <td>452.0</td>\n",
       "      <td>452.000000</td>\n",
       "      <td>452.000000</td>\n",
       "      <td>452.000000</td>\n",
       "      <td>452.000000</td>\n",
       "      <td>452.000000</td>\n",
       "    </tr>\n",
       "    <tr>\n",
       "      <th>mean</th>\n",
       "      <td>46.471239</td>\n",
       "      <td>0.550885</td>\n",
       "      <td>166.188053</td>\n",
       "      <td>68.170354</td>\n",
       "      <td>88.920354</td>\n",
       "      <td>155.152655</td>\n",
       "      <td>367.207965</td>\n",
       "      <td>169.949115</td>\n",
       "      <td>90.004425</td>\n",
       "      <td>33.676991</td>\n",
       "      <td>...</td>\n",
       "      <td>-0.278982</td>\n",
       "      <td>9.048009</td>\n",
       "      <td>-1.457301</td>\n",
       "      <td>0.003982</td>\n",
       "      <td>0.0</td>\n",
       "      <td>0.514823</td>\n",
       "      <td>1.222345</td>\n",
       "      <td>19.326106</td>\n",
       "      <td>29.473230</td>\n",
       "      <td>3.880531</td>\n",
       "    </tr>\n",
       "    <tr>\n",
       "      <th>std</th>\n",
       "      <td>16.466631</td>\n",
       "      <td>0.497955</td>\n",
       "      <td>37.170340</td>\n",
       "      <td>16.590803</td>\n",
       "      <td>15.364394</td>\n",
       "      <td>44.842283</td>\n",
       "      <td>33.385421</td>\n",
       "      <td>35.633072</td>\n",
       "      <td>25.826643</td>\n",
       "      <td>45.431434</td>\n",
       "      <td>...</td>\n",
       "      <td>0.548876</td>\n",
       "      <td>3.472862</td>\n",
       "      <td>2.002430</td>\n",
       "      <td>0.050118</td>\n",
       "      <td>0.0</td>\n",
       "      <td>0.347531</td>\n",
       "      <td>1.426052</td>\n",
       "      <td>13.503922</td>\n",
       "      <td>18.493927</td>\n",
       "      <td>4.407097</td>\n",
       "    </tr>\n",
       "    <tr>\n",
       "      <th>min</th>\n",
       "      <td>0.000000</td>\n",
       "      <td>0.000000</td>\n",
       "      <td>105.000000</td>\n",
       "      <td>6.000000</td>\n",
       "      <td>55.000000</td>\n",
       "      <td>0.000000</td>\n",
       "      <td>232.000000</td>\n",
       "      <td>108.000000</td>\n",
       "      <td>0.000000</td>\n",
       "      <td>-172.000000</td>\n",
       "      <td>...</td>\n",
       "      <td>-4.100000</td>\n",
       "      <td>0.000000</td>\n",
       "      <td>-28.600000</td>\n",
       "      <td>0.000000</td>\n",
       "      <td>0.0</td>\n",
       "      <td>-0.800000</td>\n",
       "      <td>-6.000000</td>\n",
       "      <td>-44.200000</td>\n",
       "      <td>-38.600000</td>\n",
       "      <td>1.000000</td>\n",
       "    </tr>\n",
       "    <tr>\n",
       "      <th>25%</th>\n",
       "      <td>36.000000</td>\n",
       "      <td>0.000000</td>\n",
       "      <td>160.000000</td>\n",
       "      <td>59.000000</td>\n",
       "      <td>80.000000</td>\n",
       "      <td>142.000000</td>\n",
       "      <td>350.000000</td>\n",
       "      <td>148.000000</td>\n",
       "      <td>79.000000</td>\n",
       "      <td>3.750000</td>\n",
       "      <td>...</td>\n",
       "      <td>-0.425000</td>\n",
       "      <td>6.600000</td>\n",
       "      <td>-2.100000</td>\n",
       "      <td>0.000000</td>\n",
       "      <td>0.0</td>\n",
       "      <td>0.400000</td>\n",
       "      <td>0.500000</td>\n",
       "      <td>11.450000</td>\n",
       "      <td>17.550000</td>\n",
       "      <td>1.000000</td>\n",
       "    </tr>\n",
       "    <tr>\n",
       "      <th>50%</th>\n",
       "      <td>47.000000</td>\n",
       "      <td>1.000000</td>\n",
       "      <td>164.000000</td>\n",
       "      <td>68.000000</td>\n",
       "      <td>86.000000</td>\n",
       "      <td>157.000000</td>\n",
       "      <td>367.000000</td>\n",
       "      <td>162.000000</td>\n",
       "      <td>91.000000</td>\n",
       "      <td>40.000000</td>\n",
       "      <td>...</td>\n",
       "      <td>0.000000</td>\n",
       "      <td>8.800000</td>\n",
       "      <td>-1.100000</td>\n",
       "      <td>0.000000</td>\n",
       "      <td>0.0</td>\n",
       "      <td>0.500000</td>\n",
       "      <td>1.350000</td>\n",
       "      <td>18.100000</td>\n",
       "      <td>27.900000</td>\n",
       "      <td>1.000000</td>\n",
       "    </tr>\n",
       "    <tr>\n",
       "      <th>75%</th>\n",
       "      <td>58.000000</td>\n",
       "      <td>1.000000</td>\n",
       "      <td>170.000000</td>\n",
       "      <td>79.000000</td>\n",
       "      <td>94.000000</td>\n",
       "      <td>175.000000</td>\n",
       "      <td>384.000000</td>\n",
       "      <td>179.000000</td>\n",
       "      <td>102.000000</td>\n",
       "      <td>66.000000</td>\n",
       "      <td>...</td>\n",
       "      <td>0.000000</td>\n",
       "      <td>11.200000</td>\n",
       "      <td>0.000000</td>\n",
       "      <td>0.000000</td>\n",
       "      <td>0.0</td>\n",
       "      <td>0.700000</td>\n",
       "      <td>2.100000</td>\n",
       "      <td>25.825000</td>\n",
       "      <td>41.125000</td>\n",
       "      <td>6.000000</td>\n",
       "    </tr>\n",
       "    <tr>\n",
       "      <th>max</th>\n",
       "      <td>83.000000</td>\n",
       "      <td>1.000000</td>\n",
       "      <td>780.000000</td>\n",
       "      <td>176.000000</td>\n",
       "      <td>188.000000</td>\n",
       "      <td>524.000000</td>\n",
       "      <td>509.000000</td>\n",
       "      <td>381.000000</td>\n",
       "      <td>205.000000</td>\n",
       "      <td>169.000000</td>\n",
       "      <td>...</td>\n",
       "      <td>0.000000</td>\n",
       "      <td>23.600000</td>\n",
       "      <td>0.000000</td>\n",
       "      <td>0.800000</td>\n",
       "      <td>0.0</td>\n",
       "      <td>2.400000</td>\n",
       "      <td>6.000000</td>\n",
       "      <td>88.800000</td>\n",
       "      <td>115.900000</td>\n",
       "      <td>16.000000</td>\n",
       "    </tr>\n",
       "  </tbody>\n",
       "</table>\n",
       "<p>8 rows × 275 columns</p>\n",
       "</div>"
      ],
      "text/plain": [
       "              Age         Sex      Height      Weight  QRS_duration  \\\n",
       "count  452.000000  452.000000  452.000000  452.000000    452.000000   \n",
       "mean    46.471239    0.550885  166.188053   68.170354     88.920354   \n",
       "std     16.466631    0.497955   37.170340   16.590803     15.364394   \n",
       "min      0.000000    0.000000  105.000000    6.000000     55.000000   \n",
       "25%     36.000000    0.000000  160.000000   59.000000     80.000000   \n",
       "50%     47.000000    1.000000  164.000000   68.000000     86.000000   \n",
       "75%     58.000000    1.000000  170.000000   79.000000     94.000000   \n",
       "max     83.000000    1.000000  780.000000  176.000000    188.000000   \n",
       "\n",
       "       PR_interval  QT_interval  T_interval  P_interval   QRS_angle  ...  \\\n",
       "count   452.000000   452.000000  452.000000  452.000000  452.000000  ...   \n",
       "mean    155.152655   367.207965  169.949115   90.004425   33.676991  ...   \n",
       "std      44.842283    33.385421   35.633072   25.826643   45.431434  ...   \n",
       "min       0.000000   232.000000  108.000000    0.000000 -172.000000  ...   \n",
       "25%     142.000000   350.000000  148.000000   79.000000    3.750000  ...   \n",
       "50%     157.000000   367.000000  162.000000   91.000000   40.000000  ...   \n",
       "75%     175.000000   384.000000  179.000000  102.000000   66.000000  ...   \n",
       "max     524.000000   509.000000  381.000000  205.000000  169.000000  ...   \n",
       "\n",
       "       Q_wave_V6_Amp  R_wave_V6_Amp  S_wave_V6_Amp  r_wave_V6_Amp  \\\n",
       "count     452.000000     452.000000     452.000000     452.000000   \n",
       "mean       -0.278982       9.048009      -1.457301       0.003982   \n",
       "std         0.548876       3.472862       2.002430       0.050118   \n",
       "min        -4.100000       0.000000     -28.600000       0.000000   \n",
       "25%        -0.425000       6.600000      -2.100000       0.000000   \n",
       "50%         0.000000       8.800000      -1.100000       0.000000   \n",
       "75%         0.000000      11.200000       0.000000       0.000000   \n",
       "max         0.000000      23.600000       0.000000       0.800000   \n",
       "\n",
       "       s_wave_V6_Amp  P_wave_V6_Amp  T_wave_V6_Amp     QRSA_V6    QRSTA_V6  \\\n",
       "count          452.0     452.000000     452.000000  452.000000  452.000000   \n",
       "mean             0.0       0.514823       1.222345   19.326106   29.473230   \n",
       "std              0.0       0.347531       1.426052   13.503922   18.493927   \n",
       "min              0.0      -0.800000      -6.000000  -44.200000  -38.600000   \n",
       "25%              0.0       0.400000       0.500000   11.450000   17.550000   \n",
       "50%              0.0       0.500000       1.350000   18.100000   27.900000   \n",
       "75%              0.0       0.700000       2.100000   25.825000   41.125000   \n",
       "max              0.0       2.400000       6.000000   88.800000  115.900000   \n",
       "\n",
       "            Class  \n",
       "count  452.000000  \n",
       "mean     3.880531  \n",
       "std      4.407097  \n",
       "min      1.000000  \n",
       "25%      1.000000  \n",
       "50%      1.000000  \n",
       "75%      6.000000  \n",
       "max     16.000000  \n",
       "\n",
       "[8 rows x 275 columns]"
      ]
     },
     "execution_count": 10,
     "metadata": {},
     "output_type": "execute_result"
    }
   ],
   "source": [
    "data.describe()"
   ]
  },
  {
   "cell_type": "markdown",
   "id": "geXa7BYGTfq2",
   "metadata": {
    "id": "geXa7BYGTfq2"
   },
   "source": [
    "Let's check if there any columns contain any NaN values in dataframe."
   ]
  },
  {
   "cell_type": "code",
   "execution_count": 11,
   "id": "yjsnTLMsTfq2",
   "metadata": {
    "colab": {
     "base_uri": "https://localhost:8080/"
    },
    "id": "yjsnTLMsTfq2",
    "outputId": "6fefa552-b131-458a-af71-5b6d74da4cea",
    "scrolled": true
   },
   "outputs": [
    {
     "data": {
      "text/plain": [
       "Age              0\n",
       "Sex              0\n",
       "Height           0\n",
       "Weight           0\n",
       "QRS_duration     0\n",
       "                ..\n",
       "P_wave_V6_Amp    0\n",
       "T_wave_V6_Amp    0\n",
       "QRSA_V6          0\n",
       "QRSTA_V6         0\n",
       "Class            0\n",
       "Length: 280, dtype: int64"
      ]
     },
     "execution_count": 11,
     "metadata": {},
     "output_type": "execute_result"
    }
   ],
   "source": [
    "data.iloc[:, :].isnull().sum()"
   ]
  },
  {
   "cell_type": "markdown",
   "id": "AkSF0zHPTfq2",
   "metadata": {
    "id": "AkSF0zHPTfq2"
   },
   "source": [
    "To see all values it can be changed to list"
   ]
  },
  {
   "cell_type": "code",
   "execution_count": 12,
   "id": "VQb1_KBzTfq3",
   "metadata": {
    "colab": {
     "base_uri": "https://localhost:8080/"
    },
    "id": "VQb1_KBzTfq3",
    "outputId": "2601b2ad-640f-4649-bf74-834d5c3e3b86"
   },
   "outputs": [
    {
     "data": {
      "text/plain": [
       "[0,\n",
       " 0,\n",
       " 0,\n",
       " 0,\n",
       " 0,\n",
       " 0,\n",
       " 0,\n",
       " 0,\n",
       " 0,\n",
       " 0,\n",
       " 0,\n",
       " 0,\n",
       " 0,\n",
       " 0,\n",
       " 0,\n",
       " 0,\n",
       " 0,\n",
       " 0,\n",
       " 0,\n",
       " 0,\n",
       " 0,\n",
       " 0,\n",
       " 0,\n",
       " 0,\n",
       " 0,\n",
       " 0,\n",
       " 0,\n",
       " 0,\n",
       " 0,\n",
       " 0,\n",
       " 0,\n",
       " 0,\n",
       " 0,\n",
       " 0,\n",
       " 0,\n",
       " 0,\n",
       " 0,\n",
       " 0,\n",
       " 0,\n",
       " 0,\n",
       " 0,\n",
       " 0,\n",
       " 0,\n",
       " 0,\n",
       " 0,\n",
       " 0,\n",
       " 0,\n",
       " 0,\n",
       " 0,\n",
       " 0,\n",
       " 0,\n",
       " 0,\n",
       " 0,\n",
       " 0,\n",
       " 0,\n",
       " 0,\n",
       " 0,\n",
       " 0,\n",
       " 0,\n",
       " 0,\n",
       " 0,\n",
       " 0,\n",
       " 0,\n",
       " 0,\n",
       " 0,\n",
       " 0,\n",
       " 0,\n",
       " 0,\n",
       " 0,\n",
       " 0,\n",
       " 0,\n",
       " 0,\n",
       " 0,\n",
       " 0,\n",
       " 0,\n",
       " 0,\n",
       " 0,\n",
       " 0,\n",
       " 0,\n",
       " 0,\n",
       " 0,\n",
       " 0,\n",
       " 0,\n",
       " 0,\n",
       " 0,\n",
       " 0,\n",
       " 0,\n",
       " 0,\n",
       " 0,\n",
       " 0,\n",
       " 0,\n",
       " 0,\n",
       " 0,\n",
       " 0,\n",
       " 0,\n",
       " 0,\n",
       " 0,\n",
       " 0,\n",
       " 0,\n",
       " 0,\n",
       " 0,\n",
       " 0,\n",
       " 0,\n",
       " 0,\n",
       " 0,\n",
       " 0,\n",
       " 0,\n",
       " 0,\n",
       " 0,\n",
       " 0,\n",
       " 0,\n",
       " 0,\n",
       " 0,\n",
       " 0,\n",
       " 0,\n",
       " 0,\n",
       " 0,\n",
       " 0,\n",
       " 0,\n",
       " 0,\n",
       " 0,\n",
       " 0,\n",
       " 0,\n",
       " 0,\n",
       " 0,\n",
       " 0,\n",
       " 0,\n",
       " 0,\n",
       " 0,\n",
       " 0,\n",
       " 0,\n",
       " 0,\n",
       " 0,\n",
       " 0,\n",
       " 0,\n",
       " 0,\n",
       " 0,\n",
       " 0,\n",
       " 0,\n",
       " 0,\n",
       " 0,\n",
       " 0,\n",
       " 0,\n",
       " 0,\n",
       " 0,\n",
       " 0,\n",
       " 0,\n",
       " 0,\n",
       " 0,\n",
       " 0,\n",
       " 0,\n",
       " 0,\n",
       " 0,\n",
       " 0,\n",
       " 0,\n",
       " 0,\n",
       " 0,\n",
       " 0,\n",
       " 0,\n",
       " 0,\n",
       " 0,\n",
       " 0,\n",
       " 0,\n",
       " 0,\n",
       " 0,\n",
       " 0,\n",
       " 0,\n",
       " 0,\n",
       " 0,\n",
       " 0,\n",
       " 0,\n",
       " 0,\n",
       " 0,\n",
       " 0,\n",
       " 0,\n",
       " 0,\n",
       " 0,\n",
       " 0,\n",
       " 0,\n",
       " 0,\n",
       " 0,\n",
       " 0,\n",
       " 0,\n",
       " 0,\n",
       " 0,\n",
       " 0,\n",
       " 0,\n",
       " 0,\n",
       " 0,\n",
       " 0,\n",
       " 0,\n",
       " 0,\n",
       " 0,\n",
       " 0,\n",
       " 0,\n",
       " 0,\n",
       " 0,\n",
       " 0,\n",
       " 0,\n",
       " 0,\n",
       " 0,\n",
       " 0,\n",
       " 0,\n",
       " 0,\n",
       " 0,\n",
       " 0,\n",
       " 0,\n",
       " 0,\n",
       " 0,\n",
       " 0,\n",
       " 0,\n",
       " 0,\n",
       " 0,\n",
       " 0,\n",
       " 0,\n",
       " 0,\n",
       " 0,\n",
       " 0,\n",
       " 0,\n",
       " 0,\n",
       " 0,\n",
       " 0,\n",
       " 0,\n",
       " 0,\n",
       " 0,\n",
       " 0,\n",
       " 0,\n",
       " 0,\n",
       " 0,\n",
       " 0,\n",
       " 0,\n",
       " 0,\n",
       " 0,\n",
       " 0,\n",
       " 0,\n",
       " 0,\n",
       " 0,\n",
       " 0,\n",
       " 0,\n",
       " 0,\n",
       " 0,\n",
       " 0,\n",
       " 0,\n",
       " 0,\n",
       " 0,\n",
       " 0,\n",
       " 0,\n",
       " 0,\n",
       " 0,\n",
       " 0,\n",
       " 0,\n",
       " 0,\n",
       " 0,\n",
       " 0,\n",
       " 0,\n",
       " 0,\n",
       " 0,\n",
       " 0,\n",
       " 0,\n",
       " 0,\n",
       " 0,\n",
       " 0,\n",
       " 0,\n",
       " 0,\n",
       " 0,\n",
       " 0,\n",
       " 0,\n",
       " 0,\n",
       " 0,\n",
       " 0,\n",
       " 0,\n",
       " 0,\n",
       " 0,\n",
       " 0,\n",
       " 0,\n",
       " 0,\n",
       " 0,\n",
       " 0,\n",
       " 0,\n",
       " 0]"
      ]
     },
     "execution_count": 12,
     "metadata": {},
     "output_type": "execute_result"
    }
   ],
   "source": [
    "data.iloc[:, :].isnull().sum().tolist()"
   ]
  },
  {
   "cell_type": "markdown",
   "id": "Jm8fBNeKTfq3",
   "metadata": {
    "id": "Jm8fBNeKTfq3"
   },
   "source": [
    "None of the columns have any NaN values. That is not true. In the arrhythmia.names it was said that there are missing values. They are marked with ?."
   ]
  },
  {
   "cell_type": "markdown",
   "id": "peMwwlCiTfq3",
   "metadata": {
    "id": "peMwwlCiTfq3"
   },
   "source": [
    "For example there are question marks in J_angle column."
   ]
  },
  {
   "cell_type": "code",
   "execution_count": 13,
   "id": "jIbDTq2STfq3",
   "metadata": {
    "colab": {
     "base_uri": "https://localhost:8080/"
    },
    "id": "jIbDTq2STfq3",
    "outputId": "5c012edc-b983-4ed9-9c62-28a098d0d57c",
    "scrolled": true
   },
   "outputs": [
    {
     "data": {
      "text/plain": [
       "0        ?\n",
       "1        ?\n",
       "2       23\n",
       "3        ?\n",
       "4        ?\n",
       "      ... \n",
       "447      ?\n",
       "448      ?\n",
       "449     84\n",
       "450    103\n",
       "451      ?\n",
       "Name: J_angle, Length: 452, dtype: object"
      ]
     },
     "execution_count": 13,
     "metadata": {},
     "output_type": "execute_result"
    }
   ],
   "source": [
    "data.loc[:,'J_angle']"
   ]
  },
  {
   "cell_type": "markdown",
   "id": "deXNrFUdTfq3",
   "metadata": {
    "id": "deXNrFUdTfq3"
   },
   "source": [
    "Data type of the first element of the J_angle column (?) can be checked."
   ]
  },
  {
   "cell_type": "code",
   "execution_count": 14,
   "id": "lzdZC9nFTfq4",
   "metadata": {
    "colab": {
     "base_uri": "https://localhost:8080/"
    },
    "id": "lzdZC9nFTfq4",
    "outputId": "8741bf67-da8a-4863-837e-86c17d3691fe"
   },
   "outputs": [
    {
     "name": "stdout",
     "output_type": "stream",
     "text": [
      "<class 'str'>\n"
     ]
    }
   ],
   "source": [
    "print(type(data.loc[0, 'J_angle']))"
   ]
  },
  {
   "cell_type": "markdown",
   "id": "u2kiv9ZfTfq4",
   "metadata": {
    "id": "u2kiv9ZfTfq4"
   },
   "source": [
    "Data type of the first element of the J_angle column is string.\n",
    "How about numbers in the same column."
   ]
  },
  {
   "cell_type": "code",
   "execution_count": 15,
   "id": "4Y4PUl4bTfq4",
   "metadata": {
    "colab": {
     "base_uri": "https://localhost:8080/"
    },
    "id": "4Y4PUl4bTfq4",
    "outputId": "7d113e64-6e27-4cd9-d27e-628714846900",
    "scrolled": false
   },
   "outputs": [
    {
     "name": "stdout",
     "output_type": "stream",
     "text": [
      "<class 'str'>\n"
     ]
    }
   ],
   "source": [
    "print(type(data.loc[2, 'J_angle']))"
   ]
  },
  {
   "cell_type": "markdown",
   "id": "1w9VmZE3Tfq4",
   "metadata": {
    "id": "1w9VmZE3Tfq4"
   },
   "source": [
    "That is also string data type. \n",
    "Question marks have to converted to NaN and numbers to float. NaN is float type in pandas."
   ]
  },
  {
   "cell_type": "markdown",
   "id": "Q5LZxASJTfq4",
   "metadata": {
    "id": "Q5LZxASJTfq4"
   },
   "source": [
    "All columns will be check and all rows in those columns will be check if there are any question marks or numbers that are string type. Question marks will be converted to NaN and numbers that are string type will be converted to float type numbers. "
   ]
  },
  {
   "cell_type": "code",
   "execution_count": 16,
   "id": "jyXDM7w1Tfq4",
   "metadata": {
    "colab": {
     "base_uri": "https://localhost:8080/"
    },
    "id": "jyXDM7w1Tfq4",
    "outputId": "03d3e04c-7845-41a8-905a-84cfca214f83",
    "scrolled": true
   },
   "outputs": [
    {
     "name": "stdout",
     "output_type": "stream",
     "text": [
      "[['T_angle', 10], ['P_angle', 11], ['QRST_angle', 12], ['J_angle', 13], ['Heart_rate', 14]]\n"
     ]
    }
   ],
   "source": [
    "changed = []\n",
    "for column in data:                                                    # All columns are checked\n",
    "    if type(data.at[1, column]) == str:                                # Check if the first element of the column is string\n",
    "        for index in data.index:                                       # All rows are checked       \n",
    "            if data.at[index, column] == '?':                          # If value is ?\n",
    "                data.at[index, column] = np.nan                        # Replace ? values with NaN\n",
    "            else:\n",
    "                data.at[index, column] = float(data.at[index, column]) # Convert string type numbers to float                                                 \n",
    "        changed.append([column, data.columns.get_loc(column)])\n",
    "print(changed)                                                         # Print column names and number that are changed"
   ]
  },
  {
   "cell_type": "markdown",
   "id": "k4sV864lTfq5",
   "metadata": {
    "id": "k4sV864lTfq5"
   },
   "source": [
    "How many NaN there can be found in these columns."
   ]
  },
  {
   "cell_type": "code",
   "execution_count": 17,
   "id": "1c2fERQkTfq5",
   "metadata": {
    "colab": {
     "base_uri": "https://localhost:8080/"
    },
    "id": "1c2fERQkTfq5",
    "outputId": "8707bc77-4f1b-4e1b-b9a4-d032b1e41a77"
   },
   "outputs": [
    {
     "data": {
      "text/plain": [
       "T_angle         8\n",
       "P_angle        22\n",
       "QRST_angle      1\n",
       "J_angle       376\n",
       "Heart_rate      1\n",
       "dtype: int64"
      ]
     },
     "execution_count": 17,
     "metadata": {},
     "output_type": "execute_result"
    }
   ],
   "source": [
    "data.loc[:, ['T_angle','P_angle','QRST_angle','J_angle','Heart_rate']].isnull().sum()"
   ]
  },
  {
   "cell_type": "markdown",
   "id": "GaFy6xbyTfq5",
   "metadata": {
    "id": "GaFy6xbyTfq5"
   },
   "source": [
    "Column J_angle is missing 376 values out of 452. That column can be removed from dataframe."
   ]
  },
  {
   "cell_type": "code",
   "execution_count": 18,
   "id": "OtTh4jRzTfq5",
   "metadata": {
    "id": "OtTh4jRzTfq5"
   },
   "outputs": [],
   "source": [
    "data = data.drop('J_angle', axis = 1)"
   ]
  },
  {
   "cell_type": "markdown",
   "id": "15Vt9aQpTfq5",
   "metadata": {
    "id": "15Vt9aQpTfq5"
   },
   "source": [
    "Dataframe size after J_angle is removed."
   ]
  },
  {
   "cell_type": "code",
   "execution_count": 19,
   "id": "HYw_qccvTfq6",
   "metadata": {
    "colab": {
     "base_uri": "https://localhost:8080/"
    },
    "id": "HYw_qccvTfq6",
    "outputId": "eb826a05-d8ab-4a4d-9879-51e4a85c73bd"
   },
   "outputs": [
    {
     "data": {
      "text/plain": [
       "(452, 279)"
      ]
     },
     "execution_count": 19,
     "metadata": {},
     "output_type": "execute_result"
    }
   ],
   "source": [
    "data.shape"
   ]
  },
  {
   "cell_type": "markdown",
   "id": "9PTW9IOoTfq6",
   "metadata": {
    "id": "9PTW9IOoTfq6"
   },
   "source": [
    "NaN values left"
   ]
  },
  {
   "cell_type": "code",
   "execution_count": 20,
   "id": "O2BCfOa_Tfq6",
   "metadata": {
    "colab": {
     "base_uri": "https://localhost:8080/"
    },
    "id": "O2BCfOa_Tfq6",
    "outputId": "661ca991-eaa9-49fa-8fe5-41eb40b28624"
   },
   "outputs": [
    {
     "data": {
      "text/plain": [
       "T_angle        8\n",
       "P_angle       22\n",
       "QRST_angle     1\n",
       "Heart_rate     1\n",
       "dtype: int64"
      ]
     },
     "execution_count": 20,
     "metadata": {},
     "output_type": "execute_result"
    }
   ],
   "source": [
    "data.loc[:, ['T_angle','P_angle','QRST_angle','Heart_rate']].isnull().sum()"
   ]
  },
  {
   "cell_type": "markdown",
   "id": "xjxTrJUlTfq6",
   "metadata": {
    "id": "xjxTrJUlTfq6"
   },
   "source": [
    "Check if missing values are in same rows."
   ]
  },
  {
   "cell_type": "code",
   "execution_count": 21,
   "id": "qo_zH5gCTfq6",
   "metadata": {
    "colab": {
     "base_uri": "https://localhost:8080/",
     "height": 300
    },
    "id": "qo_zH5gCTfq6",
    "outputId": "ff92e150-dd2e-46c3-b9de-e9a04e38329c"
   },
   "outputs": [
    {
     "data": {
      "text/html": [
       "<div>\n",
       "<style scoped>\n",
       "    .dataframe tbody tr th:only-of-type {\n",
       "        vertical-align: middle;\n",
       "    }\n",
       "\n",
       "    .dataframe tbody tr th {\n",
       "        vertical-align: top;\n",
       "    }\n",
       "\n",
       "    .dataframe thead th {\n",
       "        text-align: right;\n",
       "    }\n",
       "</style>\n",
       "<table border=\"1\" class=\"dataframe\">\n",
       "  <thead>\n",
       "    <tr style=\"text-align: right;\">\n",
       "      <th></th>\n",
       "      <th>T_angle</th>\n",
       "      <th>P_angle</th>\n",
       "      <th>QRST_angle</th>\n",
       "      <th>Heart_rate</th>\n",
       "    </tr>\n",
       "  </thead>\n",
       "  <tbody>\n",
       "    <tr>\n",
       "      <th>66</th>\n",
       "      <td>NaN</td>\n",
       "      <td>62.0</td>\n",
       "      <td>39.0</td>\n",
       "      <td>54.0</td>\n",
       "    </tr>\n",
       "    <tr>\n",
       "      <th>91</th>\n",
       "      <td>NaN</td>\n",
       "      <td>64.0</td>\n",
       "      <td>-1.0</td>\n",
       "      <td>85.0</td>\n",
       "    </tr>\n",
       "    <tr>\n",
       "      <th>200</th>\n",
       "      <td>NaN</td>\n",
       "      <td>30.0</td>\n",
       "      <td>2.0</td>\n",
       "      <td>89.0</td>\n",
       "    </tr>\n",
       "    <tr>\n",
       "      <th>212</th>\n",
       "      <td>NaN</td>\n",
       "      <td>2.0</td>\n",
       "      <td>16.0</td>\n",
       "      <td>59.0</td>\n",
       "    </tr>\n",
       "    <tr>\n",
       "      <th>238</th>\n",
       "      <td>NaN</td>\n",
       "      <td>56.0</td>\n",
       "      <td>20.0</td>\n",
       "      <td>79.0</td>\n",
       "    </tr>\n",
       "    <tr>\n",
       "      <th>360</th>\n",
       "      <td>NaN</td>\n",
       "      <td>42.0</td>\n",
       "      <td>53.0</td>\n",
       "      <td>87.0</td>\n",
       "    </tr>\n",
       "    <tr>\n",
       "      <th>372</th>\n",
       "      <td>NaN</td>\n",
       "      <td>56.0</td>\n",
       "      <td>44.0</td>\n",
       "      <td>89.0</td>\n",
       "    </tr>\n",
       "    <tr>\n",
       "      <th>412</th>\n",
       "      <td>NaN</td>\n",
       "      <td>-52.0</td>\n",
       "      <td>62.0</td>\n",
       "      <td>63.0</td>\n",
       "    </tr>\n",
       "  </tbody>\n",
       "</table>\n",
       "</div>"
      ],
      "text/plain": [
       "    T_angle P_angle QRST_angle Heart_rate\n",
       "66      NaN    62.0       39.0       54.0\n",
       "91      NaN    64.0       -1.0       85.0\n",
       "200     NaN    30.0        2.0       89.0\n",
       "212     NaN     2.0       16.0       59.0\n",
       "238     NaN    56.0       20.0       79.0\n",
       "360     NaN    42.0       53.0       87.0\n",
       "372     NaN    56.0       44.0       89.0\n",
       "412     NaN   -52.0       62.0       63.0"
      ]
     },
     "execution_count": 21,
     "metadata": {},
     "output_type": "execute_result"
    }
   ],
   "source": [
    "data.loc[data['T_angle'].isna(), ['T_angle', 'P_angle','QRST_angle','Heart_rate']]"
   ]
  },
  {
   "cell_type": "code",
   "execution_count": 22,
   "id": "bd8_3UliTfq6",
   "metadata": {
    "colab": {
     "base_uri": "https://localhost:8080/",
     "height": 739
    },
    "id": "bd8_3UliTfq6",
    "outputId": "d76eda7e-6782-4e85-9819-12d629f1a870"
   },
   "outputs": [
    {
     "data": {
      "text/html": [
       "<div>\n",
       "<style scoped>\n",
       "    .dataframe tbody tr th:only-of-type {\n",
       "        vertical-align: middle;\n",
       "    }\n",
       "\n",
       "    .dataframe tbody tr th {\n",
       "        vertical-align: top;\n",
       "    }\n",
       "\n",
       "    .dataframe thead th {\n",
       "        text-align: right;\n",
       "    }\n",
       "</style>\n",
       "<table border=\"1\" class=\"dataframe\">\n",
       "  <thead>\n",
       "    <tr style=\"text-align: right;\">\n",
       "      <th></th>\n",
       "      <th>T_angle</th>\n",
       "      <th>P_angle</th>\n",
       "      <th>QRST_angle</th>\n",
       "      <th>Heart_rate</th>\n",
       "    </tr>\n",
       "  </thead>\n",
       "  <tbody>\n",
       "    <tr>\n",
       "      <th>54</th>\n",
       "      <td>79.0</td>\n",
       "      <td>NaN</td>\n",
       "      <td>62.0</td>\n",
       "      <td>59.0</td>\n",
       "    </tr>\n",
       "    <tr>\n",
       "      <th>59</th>\n",
       "      <td>53.0</td>\n",
       "      <td>NaN</td>\n",
       "      <td>76.0</td>\n",
       "      <td>66.0</td>\n",
       "    </tr>\n",
       "    <tr>\n",
       "      <th>106</th>\n",
       "      <td>70.0</td>\n",
       "      <td>NaN</td>\n",
       "      <td>12.0</td>\n",
       "      <td>63.0</td>\n",
       "    </tr>\n",
       "    <tr>\n",
       "      <th>108</th>\n",
       "      <td>-92.0</td>\n",
       "      <td>NaN</td>\n",
       "      <td>92.0</td>\n",
       "      <td>86.0</td>\n",
       "    </tr>\n",
       "    <tr>\n",
       "      <th>116</th>\n",
       "      <td>23.0</td>\n",
       "      <td>NaN</td>\n",
       "      <td>42.0</td>\n",
       "      <td>61.0</td>\n",
       "    </tr>\n",
       "    <tr>\n",
       "      <th>133</th>\n",
       "      <td>32.0</td>\n",
       "      <td>NaN</td>\n",
       "      <td>53.0</td>\n",
       "      <td>63.0</td>\n",
       "    </tr>\n",
       "    <tr>\n",
       "      <th>174</th>\n",
       "      <td>73.0</td>\n",
       "      <td>NaN</td>\n",
       "      <td>76.0</td>\n",
       "      <td>71.0</td>\n",
       "    </tr>\n",
       "    <tr>\n",
       "      <th>177</th>\n",
       "      <td>19.0</td>\n",
       "      <td>NaN</td>\n",
       "      <td>49.0</td>\n",
       "      <td>67.0</td>\n",
       "    </tr>\n",
       "    <tr>\n",
       "      <th>193</th>\n",
       "      <td>-82.0</td>\n",
       "      <td>NaN</td>\n",
       "      <td>19.0</td>\n",
       "      <td>84.0</td>\n",
       "    </tr>\n",
       "    <tr>\n",
       "      <th>204</th>\n",
       "      <td>102.0</td>\n",
       "      <td>NaN</td>\n",
       "      <td>96.0</td>\n",
       "      <td>70.0</td>\n",
       "    </tr>\n",
       "    <tr>\n",
       "      <th>217</th>\n",
       "      <td>-27.0</td>\n",
       "      <td>NaN</td>\n",
       "      <td>1.0</td>\n",
       "      <td>81.0</td>\n",
       "    </tr>\n",
       "    <tr>\n",
       "      <th>219</th>\n",
       "      <td>-123.0</td>\n",
       "      <td>NaN</td>\n",
       "      <td>85.0</td>\n",
       "      <td>59.0</td>\n",
       "    </tr>\n",
       "    <tr>\n",
       "      <th>243</th>\n",
       "      <td>-103.0</td>\n",
       "      <td>NaN</td>\n",
       "      <td>66.0</td>\n",
       "      <td>115.0</td>\n",
       "    </tr>\n",
       "    <tr>\n",
       "      <th>253</th>\n",
       "      <td>127.0</td>\n",
       "      <td>NaN</td>\n",
       "      <td>-20.0</td>\n",
       "      <td>60.0</td>\n",
       "    </tr>\n",
       "    <tr>\n",
       "      <th>279</th>\n",
       "      <td>28.0</td>\n",
       "      <td>NaN</td>\n",
       "      <td>51.0</td>\n",
       "      <td>69.0</td>\n",
       "    </tr>\n",
       "    <tr>\n",
       "      <th>284</th>\n",
       "      <td>41.0</td>\n",
       "      <td>NaN</td>\n",
       "      <td>-3.0</td>\n",
       "      <td>64.0</td>\n",
       "    </tr>\n",
       "    <tr>\n",
       "      <th>298</th>\n",
       "      <td>14.0</td>\n",
       "      <td>NaN</td>\n",
       "      <td>10.0</td>\n",
       "      <td>68.0</td>\n",
       "    </tr>\n",
       "    <tr>\n",
       "      <th>300</th>\n",
       "      <td>-51.0</td>\n",
       "      <td>NaN</td>\n",
       "      <td>-4.0</td>\n",
       "      <td>75.0</td>\n",
       "    </tr>\n",
       "    <tr>\n",
       "      <th>308</th>\n",
       "      <td>-119.0</td>\n",
       "      <td>NaN</td>\n",
       "      <td>22.0</td>\n",
       "      <td>100.0</td>\n",
       "    </tr>\n",
       "    <tr>\n",
       "      <th>310</th>\n",
       "      <td>33.0</td>\n",
       "      <td>NaN</td>\n",
       "      <td>32.0</td>\n",
       "      <td>68.0</td>\n",
       "    </tr>\n",
       "    <tr>\n",
       "      <th>350</th>\n",
       "      <td>64.0</td>\n",
       "      <td>NaN</td>\n",
       "      <td>26.0</td>\n",
       "      <td>63.0</td>\n",
       "    </tr>\n",
       "    <tr>\n",
       "      <th>420</th>\n",
       "      <td>-132.0</td>\n",
       "      <td>NaN</td>\n",
       "      <td>81.0</td>\n",
       "      <td>104.0</td>\n",
       "    </tr>\n",
       "  </tbody>\n",
       "</table>\n",
       "</div>"
      ],
      "text/plain": [
       "    T_angle P_angle QRST_angle Heart_rate\n",
       "54     79.0     NaN       62.0       59.0\n",
       "59     53.0     NaN       76.0       66.0\n",
       "106    70.0     NaN       12.0       63.0\n",
       "108   -92.0     NaN       92.0       86.0\n",
       "116    23.0     NaN       42.0       61.0\n",
       "133    32.0     NaN       53.0       63.0\n",
       "174    73.0     NaN       76.0       71.0\n",
       "177    19.0     NaN       49.0       67.0\n",
       "193   -82.0     NaN       19.0       84.0\n",
       "204   102.0     NaN       96.0       70.0\n",
       "217   -27.0     NaN        1.0       81.0\n",
       "219  -123.0     NaN       85.0       59.0\n",
       "243  -103.0     NaN       66.0      115.0\n",
       "253   127.0     NaN      -20.0       60.0\n",
       "279    28.0     NaN       51.0       69.0\n",
       "284    41.0     NaN       -3.0       64.0\n",
       "298    14.0     NaN       10.0       68.0\n",
       "300   -51.0     NaN       -4.0       75.0\n",
       "308  -119.0     NaN       22.0      100.0\n",
       "310    33.0     NaN       32.0       68.0\n",
       "350    64.0     NaN       26.0       63.0\n",
       "420  -132.0     NaN       81.0      104.0"
      ]
     },
     "execution_count": 22,
     "metadata": {},
     "output_type": "execute_result"
    }
   ],
   "source": [
    "data.loc[data['P_angle'].isna(), ['T_angle', 'P_angle','QRST_angle','Heart_rate']]"
   ]
  },
  {
   "cell_type": "code",
   "execution_count": 23,
   "id": "Awq5z0twTfq6",
   "metadata": {
    "colab": {
     "base_uri": "https://localhost:8080/",
     "height": 81
    },
    "id": "Awq5z0twTfq6",
    "outputId": "48001d8b-f6f2-4301-d07c-73b9c280e47e"
   },
   "outputs": [
    {
     "data": {
      "text/html": [
       "<div>\n",
       "<style scoped>\n",
       "    .dataframe tbody tr th:only-of-type {\n",
       "        vertical-align: middle;\n",
       "    }\n",
       "\n",
       "    .dataframe tbody tr th {\n",
       "        vertical-align: top;\n",
       "    }\n",
       "\n",
       "    .dataframe thead th {\n",
       "        text-align: right;\n",
       "    }\n",
       "</style>\n",
       "<table border=\"1\" class=\"dataframe\">\n",
       "  <thead>\n",
       "    <tr style=\"text-align: right;\">\n",
       "      <th></th>\n",
       "      <th>T_angle</th>\n",
       "      <th>P_angle</th>\n",
       "      <th>QRST_angle</th>\n",
       "      <th>Heart_rate</th>\n",
       "    </tr>\n",
       "  </thead>\n",
       "  <tbody>\n",
       "    <tr>\n",
       "      <th>241</th>\n",
       "      <td>-177.0</td>\n",
       "      <td>26.0</td>\n",
       "      <td>NaN</td>\n",
       "      <td>89.0</td>\n",
       "    </tr>\n",
       "  </tbody>\n",
       "</table>\n",
       "</div>"
      ],
      "text/plain": [
       "    T_angle P_angle QRST_angle Heart_rate\n",
       "241  -177.0    26.0        NaN       89.0"
      ]
     },
     "execution_count": 23,
     "metadata": {},
     "output_type": "execute_result"
    }
   ],
   "source": [
    "data.loc[data['QRST_angle'].isna(), ['T_angle', 'P_angle','QRST_angle','Heart_rate']]"
   ]
  },
  {
   "cell_type": "code",
   "execution_count": 24,
   "id": "ngdGpN0UTfq7",
   "metadata": {
    "colab": {
     "base_uri": "https://localhost:8080/",
     "height": 81
    },
    "id": "ngdGpN0UTfq7",
    "outputId": "169c0589-e124-4de3-d462-7ad6832b8a15"
   },
   "outputs": [
    {
     "data": {
      "text/html": [
       "<div>\n",
       "<style scoped>\n",
       "    .dataframe tbody tr th:only-of-type {\n",
       "        vertical-align: middle;\n",
       "    }\n",
       "\n",
       "    .dataframe tbody tr th {\n",
       "        vertical-align: top;\n",
       "    }\n",
       "\n",
       "    .dataframe thead th {\n",
       "        text-align: right;\n",
       "    }\n",
       "</style>\n",
       "<table border=\"1\" class=\"dataframe\">\n",
       "  <thead>\n",
       "    <tr style=\"text-align: right;\">\n",
       "      <th></th>\n",
       "      <th>T_angle</th>\n",
       "      <th>P_angle</th>\n",
       "      <th>QRST_angle</th>\n",
       "      <th>Heart_rate</th>\n",
       "    </tr>\n",
       "  </thead>\n",
       "  <tbody>\n",
       "    <tr>\n",
       "      <th>4</th>\n",
       "      <td>13.0</td>\n",
       "      <td>61.0</td>\n",
       "      <td>3.0</td>\n",
       "      <td>NaN</td>\n",
       "    </tr>\n",
       "  </tbody>\n",
       "</table>\n",
       "</div>"
      ],
      "text/plain": [
       "  T_angle P_angle QRST_angle Heart_rate\n",
       "4    13.0    61.0        3.0        NaN"
      ]
     },
     "execution_count": 24,
     "metadata": {},
     "output_type": "execute_result"
    }
   ],
   "source": [
    "data.loc[data['Heart_rate'].isna(), ['T_angle', 'P_angle','QRST_angle','Heart_rate']]"
   ]
  },
  {
   "cell_type": "markdown",
   "id": "XjnaKN0kTfq7",
   "metadata": {
    "id": "XjnaKN0kTfq7"
   },
   "source": [
    "All remaining missing values are in different rows."
   ]
  },
  {
   "cell_type": "markdown",
   "id": "3fZpAPDITfq7",
   "metadata": {
    "id": "3fZpAPDITfq7"
   },
   "source": [
    "NaN values in QRST_angle and Heart_rate are replaced with column averages."
   ]
  },
  {
   "cell_type": "code",
   "execution_count": 25,
   "id": "nbu0bzp5Tfq7",
   "metadata": {
    "colab": {
     "base_uri": "https://localhost:8080/"
    },
    "id": "nbu0bzp5Tfq7",
    "outputId": "65be51a2-0f7f-4ce5-b36e-e016832f565f"
   },
   "outputs": [
    {
     "name": "stdout",
     "output_type": "stream",
     "text": [
      "QRST_angle mean value is 36.71618625277162\n",
      "Heart_rate mean value is 74.46341463414635\n"
     ]
    }
   ],
   "source": [
    "print('QRST_angle mean value is ' + str(data['QRST_angle'].mean()))\n",
    "print('Heart_rate mean value is ' + str(data['Heart_rate'].mean()))"
   ]
  },
  {
   "cell_type": "markdown",
   "id": "G4TaqDD2Tfq7",
   "metadata": {
    "id": "G4TaqDD2Tfq7"
   },
   "source": [
    "Replace all NaN values in QRST_angle column with the QRST_angle column average."
   ]
  },
  {
   "cell_type": "code",
   "execution_count": 26,
   "id": "ctjaMnqhTfq7",
   "metadata": {
    "id": "ctjaMnqhTfq7"
   },
   "outputs": [],
   "source": [
    "data['QRST_angle'] = data['QRST_angle'].fillna(value = data['QRST_angle'].mean())"
   ]
  },
  {
   "cell_type": "code",
   "execution_count": 27,
   "id": "35-VPJbLTfq8",
   "metadata": {
    "colab": {
     "base_uri": "https://localhost:8080/",
     "height": 81
    },
    "id": "35-VPJbLTfq8",
    "outputId": "4e9b184b-2b10-4b76-8272-48a8e84d076e"
   },
   "outputs": [
    {
     "data": {
      "text/html": [
       "<div>\n",
       "<style scoped>\n",
       "    .dataframe tbody tr th:only-of-type {\n",
       "        vertical-align: middle;\n",
       "    }\n",
       "\n",
       "    .dataframe tbody tr th {\n",
       "        vertical-align: top;\n",
       "    }\n",
       "\n",
       "    .dataframe thead th {\n",
       "        text-align: right;\n",
       "    }\n",
       "</style>\n",
       "<table border=\"1\" class=\"dataframe\">\n",
       "  <thead>\n",
       "    <tr style=\"text-align: right;\">\n",
       "      <th></th>\n",
       "      <th>T_angle</th>\n",
       "      <th>P_angle</th>\n",
       "      <th>QRST_angle</th>\n",
       "      <th>Heart_rate</th>\n",
       "    </tr>\n",
       "  </thead>\n",
       "  <tbody>\n",
       "    <tr>\n",
       "      <th>241</th>\n",
       "      <td>-177.0</td>\n",
       "      <td>26.0</td>\n",
       "      <td>36.716186</td>\n",
       "      <td>89.0</td>\n",
       "    </tr>\n",
       "  </tbody>\n",
       "</table>\n",
       "</div>"
      ],
      "text/plain": [
       "    T_angle P_angle  QRST_angle Heart_rate\n",
       "241  -177.0    26.0   36.716186       89.0"
      ]
     },
     "execution_count": 27,
     "metadata": {},
     "output_type": "execute_result"
    }
   ],
   "source": [
    "data.loc[[241], ['T_angle', 'P_angle','QRST_angle','Heart_rate']]"
   ]
  },
  {
   "cell_type": "markdown",
   "id": "CIKDcC76Tfq8",
   "metadata": {
    "id": "CIKDcC76Tfq8"
   },
   "source": [
    "Replace all NaN values in Heart_rate column with the Heart_rate column average."
   ]
  },
  {
   "cell_type": "code",
   "execution_count": 28,
   "id": "NLPC6V5CTfq8",
   "metadata": {
    "id": "NLPC6V5CTfq8"
   },
   "outputs": [],
   "source": [
    "data['Heart_rate'] = data['Heart_rate'].fillna(value = data['Heart_rate'].mean())"
   ]
  },
  {
   "cell_type": "code",
   "execution_count": 29,
   "id": "nOoro0uTTfq8",
   "metadata": {
    "colab": {
     "base_uri": "https://localhost:8080/",
     "height": 81
    },
    "id": "nOoro0uTTfq8",
    "outputId": "ff5c7f44-98fc-49f5-9e87-d04d64e6f5e4"
   },
   "outputs": [
    {
     "data": {
      "text/html": [
       "<div>\n",
       "<style scoped>\n",
       "    .dataframe tbody tr th:only-of-type {\n",
       "        vertical-align: middle;\n",
       "    }\n",
       "\n",
       "    .dataframe tbody tr th {\n",
       "        vertical-align: top;\n",
       "    }\n",
       "\n",
       "    .dataframe thead th {\n",
       "        text-align: right;\n",
       "    }\n",
       "</style>\n",
       "<table border=\"1\" class=\"dataframe\">\n",
       "  <thead>\n",
       "    <tr style=\"text-align: right;\">\n",
       "      <th></th>\n",
       "      <th>T_angle</th>\n",
       "      <th>P_angle</th>\n",
       "      <th>QRST_angle</th>\n",
       "      <th>Heart_rate</th>\n",
       "    </tr>\n",
       "  </thead>\n",
       "  <tbody>\n",
       "    <tr>\n",
       "      <th>4</th>\n",
       "      <td>13.0</td>\n",
       "      <td>61.0</td>\n",
       "      <td>3.0</td>\n",
       "      <td>74.463415</td>\n",
       "    </tr>\n",
       "  </tbody>\n",
       "</table>\n",
       "</div>"
      ],
      "text/plain": [
       "  T_angle P_angle  QRST_angle  Heart_rate\n",
       "4    13.0    61.0         3.0   74.463415"
      ]
     },
     "execution_count": 29,
     "metadata": {},
     "output_type": "execute_result"
    }
   ],
   "source": [
    "data.loc[[4], ['T_angle', 'P_angle','QRST_angle','Heart_rate']]"
   ]
  },
  {
   "cell_type": "markdown",
   "id": "-_GBQSiwTfq8",
   "metadata": {
    "id": "-_GBQSiwTfq8"
   },
   "source": [
    "NaN values left in columns T_angle and P_angle."
   ]
  },
  {
   "cell_type": "code",
   "execution_count": 30,
   "id": "GykSyMD8Tfq9",
   "metadata": {
    "colab": {
     "base_uri": "https://localhost:8080/"
    },
    "id": "GykSyMD8Tfq9",
    "outputId": "fa56f9cb-3c92-44f8-9043-fb6d2222d3e2"
   },
   "outputs": [
    {
     "data": {
      "text/plain": [
       "T_angle        8\n",
       "P_angle       22\n",
       "QRST_angle     0\n",
       "Heart_rate     0\n",
       "dtype: int64"
      ]
     },
     "execution_count": 30,
     "metadata": {},
     "output_type": "execute_result"
    }
   ],
   "source": [
    "data.loc[:, ['T_angle', 'P_angle','QRST_angle','Heart_rate']].isnull().sum()"
   ]
  },
  {
   "cell_type": "markdown",
   "id": "XuxQ-CAjTfq9",
   "metadata": {
    "id": "XuxQ-CAjTfq9"
   },
   "source": [
    "NaN values in T_angle and P_angle columns are also replaced with column averages."
   ]
  },
  {
   "cell_type": "code",
   "execution_count": 31,
   "id": "WJj4g7PaTfq9",
   "metadata": {
    "colab": {
     "base_uri": "https://localhost:8080/"
    },
    "id": "WJj4g7PaTfq9",
    "outputId": "b703123a-ee0a-48ea-c3a3-4cdb965862c6"
   },
   "outputs": [
    {
     "name": "stdout",
     "output_type": "stream",
     "text": [
      "T_angle mean value is 36.1509009009009\n",
      "P_angle mean value is 48.913953488372094\n"
     ]
    }
   ],
   "source": [
    "print('T_angle mean value is ' + str(data['T_angle'].mean()))\n",
    "print('P_angle mean value is ' + str(data['P_angle'].mean()))"
   ]
  },
  {
   "cell_type": "markdown",
   "id": "z1ls0H-QTfq9",
   "metadata": {
    "id": "z1ls0H-QTfq9"
   },
   "source": [
    "Replace all NaN values in column with the column average."
   ]
  },
  {
   "cell_type": "code",
   "execution_count": 32,
   "id": "AWd2XDfxTfq9",
   "metadata": {
    "id": "AWd2XDfxTfq9"
   },
   "outputs": [],
   "source": [
    "data['T_angle'] = data['T_angle'].fillna(value = data['T_angle'].mean())\n",
    "data['P_angle'] = data['P_angle'].fillna(value = data['P_angle'].mean())"
   ]
  },
  {
   "cell_type": "code",
   "execution_count": 33,
   "id": "3TzHZuuSTfq-",
   "metadata": {
    "colab": {
     "base_uri": "https://localhost:8080/",
     "height": 300
    },
    "id": "3TzHZuuSTfq-",
    "outputId": "f0236067-df7e-4000-c28b-7ed4578bbdb8"
   },
   "outputs": [
    {
     "data": {
      "text/html": [
       "<div>\n",
       "<style scoped>\n",
       "    .dataframe tbody tr th:only-of-type {\n",
       "        vertical-align: middle;\n",
       "    }\n",
       "\n",
       "    .dataframe tbody tr th {\n",
       "        vertical-align: top;\n",
       "    }\n",
       "\n",
       "    .dataframe thead th {\n",
       "        text-align: right;\n",
       "    }\n",
       "</style>\n",
       "<table border=\"1\" class=\"dataframe\">\n",
       "  <thead>\n",
       "    <tr style=\"text-align: right;\">\n",
       "      <th></th>\n",
       "      <th>T_angle</th>\n",
       "      <th>P_angle</th>\n",
       "      <th>QRST_angle</th>\n",
       "      <th>Heart_rate</th>\n",
       "    </tr>\n",
       "  </thead>\n",
       "  <tbody>\n",
       "    <tr>\n",
       "      <th>66</th>\n",
       "      <td>36.150901</td>\n",
       "      <td>62.0</td>\n",
       "      <td>39.0</td>\n",
       "      <td>54.0</td>\n",
       "    </tr>\n",
       "    <tr>\n",
       "      <th>91</th>\n",
       "      <td>36.150901</td>\n",
       "      <td>64.0</td>\n",
       "      <td>-1.0</td>\n",
       "      <td>85.0</td>\n",
       "    </tr>\n",
       "    <tr>\n",
       "      <th>200</th>\n",
       "      <td>36.150901</td>\n",
       "      <td>30.0</td>\n",
       "      <td>2.0</td>\n",
       "      <td>89.0</td>\n",
       "    </tr>\n",
       "    <tr>\n",
       "      <th>212</th>\n",
       "      <td>36.150901</td>\n",
       "      <td>2.0</td>\n",
       "      <td>16.0</td>\n",
       "      <td>59.0</td>\n",
       "    </tr>\n",
       "    <tr>\n",
       "      <th>238</th>\n",
       "      <td>36.150901</td>\n",
       "      <td>56.0</td>\n",
       "      <td>20.0</td>\n",
       "      <td>79.0</td>\n",
       "    </tr>\n",
       "    <tr>\n",
       "      <th>360</th>\n",
       "      <td>36.150901</td>\n",
       "      <td>42.0</td>\n",
       "      <td>53.0</td>\n",
       "      <td>87.0</td>\n",
       "    </tr>\n",
       "    <tr>\n",
       "      <th>372</th>\n",
       "      <td>36.150901</td>\n",
       "      <td>56.0</td>\n",
       "      <td>44.0</td>\n",
       "      <td>89.0</td>\n",
       "    </tr>\n",
       "    <tr>\n",
       "      <th>412</th>\n",
       "      <td>36.150901</td>\n",
       "      <td>-52.0</td>\n",
       "      <td>62.0</td>\n",
       "      <td>63.0</td>\n",
       "    </tr>\n",
       "  </tbody>\n",
       "</table>\n",
       "</div>"
      ],
      "text/plain": [
       "       T_angle  P_angle  QRST_angle  Heart_rate\n",
       "66   36.150901     62.0        39.0        54.0\n",
       "91   36.150901     64.0        -1.0        85.0\n",
       "200  36.150901     30.0         2.0        89.0\n",
       "212  36.150901      2.0        16.0        59.0\n",
       "238  36.150901     56.0        20.0        79.0\n",
       "360  36.150901     42.0        53.0        87.0\n",
       "372  36.150901     56.0        44.0        89.0\n",
       "412  36.150901    -52.0        62.0        63.0"
      ]
     },
     "execution_count": 33,
     "metadata": {},
     "output_type": "execute_result"
    }
   ],
   "source": [
    "data.loc[[66,91,200,212,238,360,372,412], ['T_angle', 'P_angle','QRST_angle','Heart_rate']]"
   ]
  },
  {
   "cell_type": "code",
   "execution_count": 34,
   "id": "h1PPOudmTfq-",
   "metadata": {
    "colab": {
     "base_uri": "https://localhost:8080/",
     "height": 739
    },
    "id": "h1PPOudmTfq-",
    "outputId": "e64f730e-6907-4021-a15d-1af3b85adabd"
   },
   "outputs": [
    {
     "data": {
      "text/html": [
       "<div>\n",
       "<style scoped>\n",
       "    .dataframe tbody tr th:only-of-type {\n",
       "        vertical-align: middle;\n",
       "    }\n",
       "\n",
       "    .dataframe tbody tr th {\n",
       "        vertical-align: top;\n",
       "    }\n",
       "\n",
       "    .dataframe thead th {\n",
       "        text-align: right;\n",
       "    }\n",
       "</style>\n",
       "<table border=\"1\" class=\"dataframe\">\n",
       "  <thead>\n",
       "    <tr style=\"text-align: right;\">\n",
       "      <th></th>\n",
       "      <th>T_angle</th>\n",
       "      <th>P_angle</th>\n",
       "      <th>QRST_angle</th>\n",
       "      <th>Heart_rate</th>\n",
       "    </tr>\n",
       "  </thead>\n",
       "  <tbody>\n",
       "    <tr>\n",
       "      <th>54</th>\n",
       "      <td>79.0</td>\n",
       "      <td>48.913953</td>\n",
       "      <td>62.0</td>\n",
       "      <td>59.0</td>\n",
       "    </tr>\n",
       "    <tr>\n",
       "      <th>59</th>\n",
       "      <td>53.0</td>\n",
       "      <td>48.913953</td>\n",
       "      <td>76.0</td>\n",
       "      <td>66.0</td>\n",
       "    </tr>\n",
       "    <tr>\n",
       "      <th>106</th>\n",
       "      <td>70.0</td>\n",
       "      <td>48.913953</td>\n",
       "      <td>12.0</td>\n",
       "      <td>63.0</td>\n",
       "    </tr>\n",
       "    <tr>\n",
       "      <th>108</th>\n",
       "      <td>-92.0</td>\n",
       "      <td>48.913953</td>\n",
       "      <td>92.0</td>\n",
       "      <td>86.0</td>\n",
       "    </tr>\n",
       "    <tr>\n",
       "      <th>116</th>\n",
       "      <td>23.0</td>\n",
       "      <td>48.913953</td>\n",
       "      <td>42.0</td>\n",
       "      <td>61.0</td>\n",
       "    </tr>\n",
       "    <tr>\n",
       "      <th>133</th>\n",
       "      <td>32.0</td>\n",
       "      <td>48.913953</td>\n",
       "      <td>53.0</td>\n",
       "      <td>63.0</td>\n",
       "    </tr>\n",
       "    <tr>\n",
       "      <th>174</th>\n",
       "      <td>73.0</td>\n",
       "      <td>48.913953</td>\n",
       "      <td>76.0</td>\n",
       "      <td>71.0</td>\n",
       "    </tr>\n",
       "    <tr>\n",
       "      <th>177</th>\n",
       "      <td>19.0</td>\n",
       "      <td>48.913953</td>\n",
       "      <td>49.0</td>\n",
       "      <td>67.0</td>\n",
       "    </tr>\n",
       "    <tr>\n",
       "      <th>193</th>\n",
       "      <td>-82.0</td>\n",
       "      <td>48.913953</td>\n",
       "      <td>19.0</td>\n",
       "      <td>84.0</td>\n",
       "    </tr>\n",
       "    <tr>\n",
       "      <th>204</th>\n",
       "      <td>102.0</td>\n",
       "      <td>48.913953</td>\n",
       "      <td>96.0</td>\n",
       "      <td>70.0</td>\n",
       "    </tr>\n",
       "    <tr>\n",
       "      <th>217</th>\n",
       "      <td>-27.0</td>\n",
       "      <td>48.913953</td>\n",
       "      <td>1.0</td>\n",
       "      <td>81.0</td>\n",
       "    </tr>\n",
       "    <tr>\n",
       "      <th>219</th>\n",
       "      <td>-123.0</td>\n",
       "      <td>48.913953</td>\n",
       "      <td>85.0</td>\n",
       "      <td>59.0</td>\n",
       "    </tr>\n",
       "    <tr>\n",
       "      <th>243</th>\n",
       "      <td>-103.0</td>\n",
       "      <td>48.913953</td>\n",
       "      <td>66.0</td>\n",
       "      <td>115.0</td>\n",
       "    </tr>\n",
       "    <tr>\n",
       "      <th>253</th>\n",
       "      <td>127.0</td>\n",
       "      <td>48.913953</td>\n",
       "      <td>-20.0</td>\n",
       "      <td>60.0</td>\n",
       "    </tr>\n",
       "    <tr>\n",
       "      <th>279</th>\n",
       "      <td>28.0</td>\n",
       "      <td>48.913953</td>\n",
       "      <td>51.0</td>\n",
       "      <td>69.0</td>\n",
       "    </tr>\n",
       "    <tr>\n",
       "      <th>284</th>\n",
       "      <td>41.0</td>\n",
       "      <td>48.913953</td>\n",
       "      <td>-3.0</td>\n",
       "      <td>64.0</td>\n",
       "    </tr>\n",
       "    <tr>\n",
       "      <th>298</th>\n",
       "      <td>14.0</td>\n",
       "      <td>48.913953</td>\n",
       "      <td>10.0</td>\n",
       "      <td>68.0</td>\n",
       "    </tr>\n",
       "    <tr>\n",
       "      <th>300</th>\n",
       "      <td>-51.0</td>\n",
       "      <td>48.913953</td>\n",
       "      <td>-4.0</td>\n",
       "      <td>75.0</td>\n",
       "    </tr>\n",
       "    <tr>\n",
       "      <th>308</th>\n",
       "      <td>-119.0</td>\n",
       "      <td>48.913953</td>\n",
       "      <td>22.0</td>\n",
       "      <td>100.0</td>\n",
       "    </tr>\n",
       "    <tr>\n",
       "      <th>310</th>\n",
       "      <td>33.0</td>\n",
       "      <td>48.913953</td>\n",
       "      <td>32.0</td>\n",
       "      <td>68.0</td>\n",
       "    </tr>\n",
       "    <tr>\n",
       "      <th>350</th>\n",
       "      <td>64.0</td>\n",
       "      <td>48.913953</td>\n",
       "      <td>26.0</td>\n",
       "      <td>63.0</td>\n",
       "    </tr>\n",
       "    <tr>\n",
       "      <th>420</th>\n",
       "      <td>-132.0</td>\n",
       "      <td>48.913953</td>\n",
       "      <td>81.0</td>\n",
       "      <td>104.0</td>\n",
       "    </tr>\n",
       "  </tbody>\n",
       "</table>\n",
       "</div>"
      ],
      "text/plain": [
       "     T_angle    P_angle  QRST_angle  Heart_rate\n",
       "54      79.0  48.913953        62.0        59.0\n",
       "59      53.0  48.913953        76.0        66.0\n",
       "106     70.0  48.913953        12.0        63.0\n",
       "108    -92.0  48.913953        92.0        86.0\n",
       "116     23.0  48.913953        42.0        61.0\n",
       "133     32.0  48.913953        53.0        63.0\n",
       "174     73.0  48.913953        76.0        71.0\n",
       "177     19.0  48.913953        49.0        67.0\n",
       "193    -82.0  48.913953        19.0        84.0\n",
       "204    102.0  48.913953        96.0        70.0\n",
       "217    -27.0  48.913953         1.0        81.0\n",
       "219   -123.0  48.913953        85.0        59.0\n",
       "243   -103.0  48.913953        66.0       115.0\n",
       "253    127.0  48.913953       -20.0        60.0\n",
       "279     28.0  48.913953        51.0        69.0\n",
       "284     41.0  48.913953        -3.0        64.0\n",
       "298     14.0  48.913953        10.0        68.0\n",
       "300    -51.0  48.913953        -4.0        75.0\n",
       "308   -119.0  48.913953        22.0       100.0\n",
       "310     33.0  48.913953        32.0        68.0\n",
       "350     64.0  48.913953        26.0        63.0\n",
       "420   -132.0  48.913953        81.0       104.0"
      ]
     },
     "execution_count": 34,
     "metadata": {},
     "output_type": "execute_result"
    }
   ],
   "source": [
    "data.loc[[54,59,106,108,116,133,174,177,193,204,217,219,243,253,279,284,298,300,308,310,350,420], ['T_angle', 'P_angle','QRST_angle','Heart_rate']]"
   ]
  },
  {
   "cell_type": "markdown",
   "id": "ScWvYC-VTfq_",
   "metadata": {
    "id": "ScWvYC-VTfq_"
   },
   "source": [
    "Dataframe cleanign is done."
   ]
  },
  {
   "cell_type": "code",
   "execution_count": 35,
   "id": "W7EmPeVDTfq_",
   "metadata": {
    "colab": {
     "base_uri": "https://localhost:8080/",
     "height": 350
    },
    "id": "W7EmPeVDTfq_",
    "outputId": "856391c4-08c2-4283-b2a5-52ccd9e327a9"
   },
   "outputs": [
    {
     "data": {
      "text/html": [
       "<div>\n",
       "<style scoped>\n",
       "    .dataframe tbody tr th:only-of-type {\n",
       "        vertical-align: middle;\n",
       "    }\n",
       "\n",
       "    .dataframe tbody tr th {\n",
       "        vertical-align: top;\n",
       "    }\n",
       "\n",
       "    .dataframe thead th {\n",
       "        text-align: right;\n",
       "    }\n",
       "</style>\n",
       "<table border=\"1\" class=\"dataframe\">\n",
       "  <thead>\n",
       "    <tr style=\"text-align: right;\">\n",
       "      <th></th>\n",
       "      <th>Age</th>\n",
       "      <th>Sex</th>\n",
       "      <th>Height</th>\n",
       "      <th>Weight</th>\n",
       "      <th>QRS_duration</th>\n",
       "      <th>PR_interval</th>\n",
       "      <th>QT_interval</th>\n",
       "      <th>T_interval</th>\n",
       "      <th>P_interval</th>\n",
       "      <th>QRS_angle</th>\n",
       "      <th>...</th>\n",
       "      <th>Q_wave_V6_Amp</th>\n",
       "      <th>R_wave_V6_Amp</th>\n",
       "      <th>S_wave_V6_Amp</th>\n",
       "      <th>r_wave_V6_Amp</th>\n",
       "      <th>s_wave_V6_Amp</th>\n",
       "      <th>P_wave_V6_Amp</th>\n",
       "      <th>T_wave_V6_Amp</th>\n",
       "      <th>QRSA_V6</th>\n",
       "      <th>QRSTA_V6</th>\n",
       "      <th>Class</th>\n",
       "    </tr>\n",
       "  </thead>\n",
       "  <tbody>\n",
       "    <tr>\n",
       "      <th>count</th>\n",
       "      <td>452.000000</td>\n",
       "      <td>452.000000</td>\n",
       "      <td>452.000000</td>\n",
       "      <td>452.000000</td>\n",
       "      <td>452.000000</td>\n",
       "      <td>452.000000</td>\n",
       "      <td>452.000000</td>\n",
       "      <td>452.000000</td>\n",
       "      <td>452.000000</td>\n",
       "      <td>452.000000</td>\n",
       "      <td>...</td>\n",
       "      <td>452.000000</td>\n",
       "      <td>452.000000</td>\n",
       "      <td>452.000000</td>\n",
       "      <td>452.000000</td>\n",
       "      <td>452.0</td>\n",
       "      <td>452.000000</td>\n",
       "      <td>452.000000</td>\n",
       "      <td>452.000000</td>\n",
       "      <td>452.000000</td>\n",
       "      <td>452.000000</td>\n",
       "    </tr>\n",
       "    <tr>\n",
       "      <th>mean</th>\n",
       "      <td>46.471239</td>\n",
       "      <td>0.550885</td>\n",
       "      <td>166.188053</td>\n",
       "      <td>68.170354</td>\n",
       "      <td>88.920354</td>\n",
       "      <td>155.152655</td>\n",
       "      <td>367.207965</td>\n",
       "      <td>169.949115</td>\n",
       "      <td>90.004425</td>\n",
       "      <td>33.676991</td>\n",
       "      <td>...</td>\n",
       "      <td>-0.278982</td>\n",
       "      <td>9.048009</td>\n",
       "      <td>-1.457301</td>\n",
       "      <td>0.003982</td>\n",
       "      <td>0.0</td>\n",
       "      <td>0.514823</td>\n",
       "      <td>1.222345</td>\n",
       "      <td>19.326106</td>\n",
       "      <td>29.473230</td>\n",
       "      <td>3.880531</td>\n",
       "    </tr>\n",
       "    <tr>\n",
       "      <th>std</th>\n",
       "      <td>16.466631</td>\n",
       "      <td>0.497955</td>\n",
       "      <td>37.170340</td>\n",
       "      <td>16.590803</td>\n",
       "      <td>15.364394</td>\n",
       "      <td>44.842283</td>\n",
       "      <td>33.385421</td>\n",
       "      <td>35.633072</td>\n",
       "      <td>25.826643</td>\n",
       "      <td>45.431434</td>\n",
       "      <td>...</td>\n",
       "      <td>0.548876</td>\n",
       "      <td>3.472862</td>\n",
       "      <td>2.002430</td>\n",
       "      <td>0.050118</td>\n",
       "      <td>0.0</td>\n",
       "      <td>0.347531</td>\n",
       "      <td>1.426052</td>\n",
       "      <td>13.503922</td>\n",
       "      <td>18.493927</td>\n",
       "      <td>4.407097</td>\n",
       "    </tr>\n",
       "    <tr>\n",
       "      <th>min</th>\n",
       "      <td>0.000000</td>\n",
       "      <td>0.000000</td>\n",
       "      <td>105.000000</td>\n",
       "      <td>6.000000</td>\n",
       "      <td>55.000000</td>\n",
       "      <td>0.000000</td>\n",
       "      <td>232.000000</td>\n",
       "      <td>108.000000</td>\n",
       "      <td>0.000000</td>\n",
       "      <td>-172.000000</td>\n",
       "      <td>...</td>\n",
       "      <td>-4.100000</td>\n",
       "      <td>0.000000</td>\n",
       "      <td>-28.600000</td>\n",
       "      <td>0.000000</td>\n",
       "      <td>0.0</td>\n",
       "      <td>-0.800000</td>\n",
       "      <td>-6.000000</td>\n",
       "      <td>-44.200000</td>\n",
       "      <td>-38.600000</td>\n",
       "      <td>1.000000</td>\n",
       "    </tr>\n",
       "    <tr>\n",
       "      <th>25%</th>\n",
       "      <td>36.000000</td>\n",
       "      <td>0.000000</td>\n",
       "      <td>160.000000</td>\n",
       "      <td>59.000000</td>\n",
       "      <td>80.000000</td>\n",
       "      <td>142.000000</td>\n",
       "      <td>350.000000</td>\n",
       "      <td>148.000000</td>\n",
       "      <td>79.000000</td>\n",
       "      <td>3.750000</td>\n",
       "      <td>...</td>\n",
       "      <td>-0.425000</td>\n",
       "      <td>6.600000</td>\n",
       "      <td>-2.100000</td>\n",
       "      <td>0.000000</td>\n",
       "      <td>0.0</td>\n",
       "      <td>0.400000</td>\n",
       "      <td>0.500000</td>\n",
       "      <td>11.450000</td>\n",
       "      <td>17.550000</td>\n",
       "      <td>1.000000</td>\n",
       "    </tr>\n",
       "    <tr>\n",
       "      <th>50%</th>\n",
       "      <td>47.000000</td>\n",
       "      <td>1.000000</td>\n",
       "      <td>164.000000</td>\n",
       "      <td>68.000000</td>\n",
       "      <td>86.000000</td>\n",
       "      <td>157.000000</td>\n",
       "      <td>367.000000</td>\n",
       "      <td>162.000000</td>\n",
       "      <td>91.000000</td>\n",
       "      <td>40.000000</td>\n",
       "      <td>...</td>\n",
       "      <td>0.000000</td>\n",
       "      <td>8.800000</td>\n",
       "      <td>-1.100000</td>\n",
       "      <td>0.000000</td>\n",
       "      <td>0.0</td>\n",
       "      <td>0.500000</td>\n",
       "      <td>1.350000</td>\n",
       "      <td>18.100000</td>\n",
       "      <td>27.900000</td>\n",
       "      <td>1.000000</td>\n",
       "    </tr>\n",
       "    <tr>\n",
       "      <th>75%</th>\n",
       "      <td>58.000000</td>\n",
       "      <td>1.000000</td>\n",
       "      <td>170.000000</td>\n",
       "      <td>79.000000</td>\n",
       "      <td>94.000000</td>\n",
       "      <td>175.000000</td>\n",
       "      <td>384.000000</td>\n",
       "      <td>179.000000</td>\n",
       "      <td>102.000000</td>\n",
       "      <td>66.000000</td>\n",
       "      <td>...</td>\n",
       "      <td>0.000000</td>\n",
       "      <td>11.200000</td>\n",
       "      <td>0.000000</td>\n",
       "      <td>0.000000</td>\n",
       "      <td>0.0</td>\n",
       "      <td>0.700000</td>\n",
       "      <td>2.100000</td>\n",
       "      <td>25.825000</td>\n",
       "      <td>41.125000</td>\n",
       "      <td>6.000000</td>\n",
       "    </tr>\n",
       "    <tr>\n",
       "      <th>max</th>\n",
       "      <td>83.000000</td>\n",
       "      <td>1.000000</td>\n",
       "      <td>780.000000</td>\n",
       "      <td>176.000000</td>\n",
       "      <td>188.000000</td>\n",
       "      <td>524.000000</td>\n",
       "      <td>509.000000</td>\n",
       "      <td>381.000000</td>\n",
       "      <td>205.000000</td>\n",
       "      <td>169.000000</td>\n",
       "      <td>...</td>\n",
       "      <td>0.000000</td>\n",
       "      <td>23.600000</td>\n",
       "      <td>0.000000</td>\n",
       "      <td>0.800000</td>\n",
       "      <td>0.0</td>\n",
       "      <td>2.400000</td>\n",
       "      <td>6.000000</td>\n",
       "      <td>88.800000</td>\n",
       "      <td>115.900000</td>\n",
       "      <td>16.000000</td>\n",
       "    </tr>\n",
       "  </tbody>\n",
       "</table>\n",
       "<p>8 rows × 279 columns</p>\n",
       "</div>"
      ],
      "text/plain": [
       "              Age         Sex      Height      Weight  QRS_duration  \\\n",
       "count  452.000000  452.000000  452.000000  452.000000    452.000000   \n",
       "mean    46.471239    0.550885  166.188053   68.170354     88.920354   \n",
       "std     16.466631    0.497955   37.170340   16.590803     15.364394   \n",
       "min      0.000000    0.000000  105.000000    6.000000     55.000000   \n",
       "25%     36.000000    0.000000  160.000000   59.000000     80.000000   \n",
       "50%     47.000000    1.000000  164.000000   68.000000     86.000000   \n",
       "75%     58.000000    1.000000  170.000000   79.000000     94.000000   \n",
       "max     83.000000    1.000000  780.000000  176.000000    188.000000   \n",
       "\n",
       "       PR_interval  QT_interval  T_interval  P_interval   QRS_angle  ...  \\\n",
       "count   452.000000   452.000000  452.000000  452.000000  452.000000  ...   \n",
       "mean    155.152655   367.207965  169.949115   90.004425   33.676991  ...   \n",
       "std      44.842283    33.385421   35.633072   25.826643   45.431434  ...   \n",
       "min       0.000000   232.000000  108.000000    0.000000 -172.000000  ...   \n",
       "25%     142.000000   350.000000  148.000000   79.000000    3.750000  ...   \n",
       "50%     157.000000   367.000000  162.000000   91.000000   40.000000  ...   \n",
       "75%     175.000000   384.000000  179.000000  102.000000   66.000000  ...   \n",
       "max     524.000000   509.000000  381.000000  205.000000  169.000000  ...   \n",
       "\n",
       "       Q_wave_V6_Amp  R_wave_V6_Amp  S_wave_V6_Amp  r_wave_V6_Amp  \\\n",
       "count     452.000000     452.000000     452.000000     452.000000   \n",
       "mean       -0.278982       9.048009      -1.457301       0.003982   \n",
       "std         0.548876       3.472862       2.002430       0.050118   \n",
       "min        -4.100000       0.000000     -28.600000       0.000000   \n",
       "25%        -0.425000       6.600000      -2.100000       0.000000   \n",
       "50%         0.000000       8.800000      -1.100000       0.000000   \n",
       "75%         0.000000      11.200000       0.000000       0.000000   \n",
       "max         0.000000      23.600000       0.000000       0.800000   \n",
       "\n",
       "       s_wave_V6_Amp  P_wave_V6_Amp  T_wave_V6_Amp     QRSA_V6    QRSTA_V6  \\\n",
       "count          452.0     452.000000     452.000000  452.000000  452.000000   \n",
       "mean             0.0       0.514823       1.222345   19.326106   29.473230   \n",
       "std              0.0       0.347531       1.426052   13.503922   18.493927   \n",
       "min              0.0      -0.800000      -6.000000  -44.200000  -38.600000   \n",
       "25%              0.0       0.400000       0.500000   11.450000   17.550000   \n",
       "50%              0.0       0.500000       1.350000   18.100000   27.900000   \n",
       "75%              0.0       0.700000       2.100000   25.825000   41.125000   \n",
       "max              0.0       2.400000       6.000000   88.800000  115.900000   \n",
       "\n",
       "            Class  \n",
       "count  452.000000  \n",
       "mean     3.880531  \n",
       "std      4.407097  \n",
       "min      1.000000  \n",
       "25%      1.000000  \n",
       "50%      1.000000  \n",
       "75%      6.000000  \n",
       "max     16.000000  \n",
       "\n",
       "[8 rows x 279 columns]"
      ]
     },
     "execution_count": 35,
     "metadata": {},
     "output_type": "execute_result"
    }
   ],
   "source": [
    "data.describe()"
   ]
  },
  {
   "cell_type": "code",
   "execution_count": 36,
   "id": "_CNI3Q9iTfq_",
   "metadata": {
    "colab": {
     "base_uri": "https://localhost:8080/",
     "height": 538
    },
    "id": "_CNI3Q9iTfq_",
    "outputId": "b6dfedd6-ee8d-4c1d-ac45-1a86734e5d23"
   },
   "outputs": [
    {
     "data": {
      "text/html": [
       "<div>\n",
       "<style scoped>\n",
       "    .dataframe tbody tr th:only-of-type {\n",
       "        vertical-align: middle;\n",
       "    }\n",
       "\n",
       "    .dataframe tbody tr th {\n",
       "        vertical-align: top;\n",
       "    }\n",
       "\n",
       "    .dataframe thead th {\n",
       "        text-align: right;\n",
       "    }\n",
       "</style>\n",
       "<table border=\"1\" class=\"dataframe\">\n",
       "  <thead>\n",
       "    <tr style=\"text-align: right;\">\n",
       "      <th></th>\n",
       "      <th>Age</th>\n",
       "      <th>Sex</th>\n",
       "      <th>Height</th>\n",
       "      <th>Weight</th>\n",
       "      <th>QRS_duration</th>\n",
       "      <th>PR_interval</th>\n",
       "      <th>QT_interval</th>\n",
       "      <th>T_interval</th>\n",
       "      <th>P_interval</th>\n",
       "      <th>QRS_angle</th>\n",
       "      <th>...</th>\n",
       "      <th>JJ_wave_V6_Amp</th>\n",
       "      <th>Q_wave_V6_Amp</th>\n",
       "      <th>R_wave_V6_Amp</th>\n",
       "      <th>S_wave_V6_Amp</th>\n",
       "      <th>r_wave_V6_Amp</th>\n",
       "      <th>s_wave_V6_Amp</th>\n",
       "      <th>P_wave_V6_Amp</th>\n",
       "      <th>T_wave_V6_Amp</th>\n",
       "      <th>QRSA_V6</th>\n",
       "      <th>QRSTA_V6</th>\n",
       "    </tr>\n",
       "    <tr>\n",
       "      <th>Class</th>\n",
       "      <th></th>\n",
       "      <th></th>\n",
       "      <th></th>\n",
       "      <th></th>\n",
       "      <th></th>\n",
       "      <th></th>\n",
       "      <th></th>\n",
       "      <th></th>\n",
       "      <th></th>\n",
       "      <th></th>\n",
       "      <th></th>\n",
       "      <th></th>\n",
       "      <th></th>\n",
       "      <th></th>\n",
       "      <th></th>\n",
       "      <th></th>\n",
       "      <th></th>\n",
       "      <th></th>\n",
       "      <th></th>\n",
       "      <th></th>\n",
       "      <th></th>\n",
       "    </tr>\n",
       "  </thead>\n",
       "  <tbody>\n",
       "    <tr>\n",
       "      <th>1</th>\n",
       "      <td>46.273469</td>\n",
       "      <td>0.653061</td>\n",
       "      <td>164.102041</td>\n",
       "      <td>68.669388</td>\n",
       "      <td>84.277551</td>\n",
       "      <td>157.216327</td>\n",
       "      <td>367.200000</td>\n",
       "      <td>162.918367</td>\n",
       "      <td>92.232653</td>\n",
       "      <td>36.787755</td>\n",
       "      <td>...</td>\n",
       "      <td>-0.215918</td>\n",
       "      <td>-0.193469</td>\n",
       "      <td>9.235510</td>\n",
       "      <td>-1.245714</td>\n",
       "      <td>0.005306</td>\n",
       "      <td>0.0</td>\n",
       "      <td>0.522857</td>\n",
       "      <td>1.597959e+00</td>\n",
       "      <td>20.311429</td>\n",
       "      <td>33.836735</td>\n",
       "    </tr>\n",
       "    <tr>\n",
       "      <th>2</th>\n",
       "      <td>51.750000</td>\n",
       "      <td>0.590909</td>\n",
       "      <td>163.068182</td>\n",
       "      <td>73.363636</td>\n",
       "      <td>89.818182</td>\n",
       "      <td>153.022727</td>\n",
       "      <td>369.568182</td>\n",
       "      <td>190.704545</td>\n",
       "      <td>87.454545</td>\n",
       "      <td>29.954545</td>\n",
       "      <td>...</td>\n",
       "      <td>-0.765909</td>\n",
       "      <td>-0.238636</td>\n",
       "      <td>9.718182</td>\n",
       "      <td>-1.902273</td>\n",
       "      <td>0.000000</td>\n",
       "      <td>0.0</td>\n",
       "      <td>0.534091</td>\n",
       "      <td>-6.000000e-01</td>\n",
       "      <td>20.313636</td>\n",
       "      <td>13.795455</td>\n",
       "    </tr>\n",
       "    <tr>\n",
       "      <th>3</th>\n",
       "      <td>53.333333</td>\n",
       "      <td>0.000000</td>\n",
       "      <td>170.600000</td>\n",
       "      <td>76.866667</td>\n",
       "      <td>93.333333</td>\n",
       "      <td>163.200000</td>\n",
       "      <td>355.466667</td>\n",
       "      <td>201.800000</td>\n",
       "      <td>98.400000</td>\n",
       "      <td>17.400000</td>\n",
       "      <td>...</td>\n",
       "      <td>-0.060000</td>\n",
       "      <td>-0.533333</td>\n",
       "      <td>5.646667</td>\n",
       "      <td>-1.866667</td>\n",
       "      <td>0.000000</td>\n",
       "      <td>0.0</td>\n",
       "      <td>0.653333</td>\n",
       "      <td>4.666667e-01</td>\n",
       "      <td>7.466667</td>\n",
       "      <td>11.993333</td>\n",
       "    </tr>\n",
       "    <tr>\n",
       "      <th>4</th>\n",
       "      <td>57.266667</td>\n",
       "      <td>0.266667</td>\n",
       "      <td>166.000000</td>\n",
       "      <td>73.866667</td>\n",
       "      <td>89.866667</td>\n",
       "      <td>160.400000</td>\n",
       "      <td>352.133333</td>\n",
       "      <td>170.000000</td>\n",
       "      <td>94.000000</td>\n",
       "      <td>6.600000</td>\n",
       "      <td>...</td>\n",
       "      <td>-0.186667</td>\n",
       "      <td>-0.946667</td>\n",
       "      <td>6.253333</td>\n",
       "      <td>-0.680000</td>\n",
       "      <td>0.033333</td>\n",
       "      <td>0.0</td>\n",
       "      <td>0.693333</td>\n",
       "      <td>1.200000e-01</td>\n",
       "      <td>11.713333</td>\n",
       "      <td>12.206667</td>\n",
       "    </tr>\n",
       "    <tr>\n",
       "      <th>5</th>\n",
       "      <td>30.846154</td>\n",
       "      <td>0.692308</td>\n",
       "      <td>233.615385</td>\n",
       "      <td>44.615385</td>\n",
       "      <td>88.000000</td>\n",
       "      <td>158.230769</td>\n",
       "      <td>298.076923</td>\n",
       "      <td>154.000000</td>\n",
       "      <td>85.769231</td>\n",
       "      <td>47.076923</td>\n",
       "      <td>...</td>\n",
       "      <td>0.138462</td>\n",
       "      <td>-0.315385</td>\n",
       "      <td>6.761538</td>\n",
       "      <td>-3.253846</td>\n",
       "      <td>0.000000</td>\n",
       "      <td>0.0</td>\n",
       "      <td>0.607692</td>\n",
       "      <td>1.476923e+00</td>\n",
       "      <td>4.876923</td>\n",
       "      <td>15.646154</td>\n",
       "    </tr>\n",
       "    <tr>\n",
       "      <th>6</th>\n",
       "      <td>47.920000</td>\n",
       "      <td>0.440000</td>\n",
       "      <td>165.040000</td>\n",
       "      <td>68.000000</td>\n",
       "      <td>83.160000</td>\n",
       "      <td>157.960000</td>\n",
       "      <td>393.240000</td>\n",
       "      <td>152.880000</td>\n",
       "      <td>80.000000</td>\n",
       "      <td>28.240000</td>\n",
       "      <td>...</td>\n",
       "      <td>-0.388000</td>\n",
       "      <td>-0.152000</td>\n",
       "      <td>8.744000</td>\n",
       "      <td>-0.664000</td>\n",
       "      <td>0.000000</td>\n",
       "      <td>0.0</td>\n",
       "      <td>0.404000</td>\n",
       "      <td>1.560000e+00</td>\n",
       "      <td>21.624000</td>\n",
       "      <td>33.804000</td>\n",
       "    </tr>\n",
       "    <tr>\n",
       "      <th>7</th>\n",
       "      <td>60.666667</td>\n",
       "      <td>0.000000</td>\n",
       "      <td>178.000000</td>\n",
       "      <td>73.000000</td>\n",
       "      <td>96.333333</td>\n",
       "      <td>190.666667</td>\n",
       "      <td>365.333333</td>\n",
       "      <td>185.333333</td>\n",
       "      <td>98.000000</td>\n",
       "      <td>3.666667</td>\n",
       "      <td>...</td>\n",
       "      <td>-0.433333</td>\n",
       "      <td>-0.333333</td>\n",
       "      <td>11.200000</td>\n",
       "      <td>-1.733333</td>\n",
       "      <td>0.000000</td>\n",
       "      <td>0.0</td>\n",
       "      <td>0.100000</td>\n",
       "      <td>1.400000e+00</td>\n",
       "      <td>22.466667</td>\n",
       "      <td>33.133333</td>\n",
       "    </tr>\n",
       "    <tr>\n",
       "      <th>8</th>\n",
       "      <td>71.000000</td>\n",
       "      <td>0.000000</td>\n",
       "      <td>176.500000</td>\n",
       "      <td>79.000000</td>\n",
       "      <td>98.500000</td>\n",
       "      <td>183.000000</td>\n",
       "      <td>368.000000</td>\n",
       "      <td>185.000000</td>\n",
       "      <td>101.500000</td>\n",
       "      <td>-44.500000</td>\n",
       "      <td>...</td>\n",
       "      <td>0.100000</td>\n",
       "      <td>0.000000</td>\n",
       "      <td>6.600000</td>\n",
       "      <td>-3.650000</td>\n",
       "      <td>0.000000</td>\n",
       "      <td>0.0</td>\n",
       "      <td>0.650000</td>\n",
       "      <td>1.850000e+00</td>\n",
       "      <td>5.650000</td>\n",
       "      <td>23.650000</td>\n",
       "    </tr>\n",
       "    <tr>\n",
       "      <th>9</th>\n",
       "      <td>58.222222</td>\n",
       "      <td>0.555556</td>\n",
       "      <td>155.666667</td>\n",
       "      <td>66.444444</td>\n",
       "      <td>154.444444</td>\n",
       "      <td>158.444444</td>\n",
       "      <td>439.444444</td>\n",
       "      <td>263.666667</td>\n",
       "      <td>90.333333</td>\n",
       "      <td>12.777778</td>\n",
       "      <td>...</td>\n",
       "      <td>-2.066667</td>\n",
       "      <td>0.000000</td>\n",
       "      <td>8.933333</td>\n",
       "      <td>-0.733333</td>\n",
       "      <td>0.000000</td>\n",
       "      <td>0.0</td>\n",
       "      <td>0.488889</td>\n",
       "      <td>-1.733333e+00</td>\n",
       "      <td>52.877778</td>\n",
       "      <td>31.055556</td>\n",
       "    </tr>\n",
       "    <tr>\n",
       "      <th>10</th>\n",
       "      <td>38.920000</td>\n",
       "      <td>0.440000</td>\n",
       "      <td>163.520000</td>\n",
       "      <td>63.300000</td>\n",
       "      <td>97.580000</td>\n",
       "      <td>148.740000</td>\n",
       "      <td>369.760000</td>\n",
       "      <td>169.320000</td>\n",
       "      <td>91.180000</td>\n",
       "      <td>31.980000</td>\n",
       "      <td>...</td>\n",
       "      <td>-0.152000</td>\n",
       "      <td>-0.386000</td>\n",
       "      <td>9.556000</td>\n",
       "      <td>-2.192000</td>\n",
       "      <td>0.000000</td>\n",
       "      <td>0.0</td>\n",
       "      <td>0.470000</td>\n",
       "      <td>1.992000e+00</td>\n",
       "      <td>15.210000</td>\n",
       "      <td>33.550000</td>\n",
       "    </tr>\n",
       "    <tr>\n",
       "      <th>14</th>\n",
       "      <td>19.500000</td>\n",
       "      <td>0.250000</td>\n",
       "      <td>156.000000</td>\n",
       "      <td>50.250000</td>\n",
       "      <td>99.250000</td>\n",
       "      <td>163.750000</td>\n",
       "      <td>361.750000</td>\n",
       "      <td>193.000000</td>\n",
       "      <td>99.000000</td>\n",
       "      <td>76.250000</td>\n",
       "      <td>...</td>\n",
       "      <td>-0.650000</td>\n",
       "      <td>-0.800000</td>\n",
       "      <td>16.900000</td>\n",
       "      <td>-2.175000</td>\n",
       "      <td>0.000000</td>\n",
       "      <td>0.0</td>\n",
       "      <td>0.625000</td>\n",
       "      <td>1.350000e+00</td>\n",
       "      <td>34.200000</td>\n",
       "      <td>42.950000</td>\n",
       "    </tr>\n",
       "    <tr>\n",
       "      <th>15</th>\n",
       "      <td>57.400000</td>\n",
       "      <td>0.800000</td>\n",
       "      <td>161.400000</td>\n",
       "      <td>76.000000</td>\n",
       "      <td>88.400000</td>\n",
       "      <td>0.000000</td>\n",
       "      <td>335.800000</td>\n",
       "      <td>152.000000</td>\n",
       "      <td>0.000000</td>\n",
       "      <td>59.600000</td>\n",
       "      <td>...</td>\n",
       "      <td>-0.660000</td>\n",
       "      <td>-0.460000</td>\n",
       "      <td>7.180000</td>\n",
       "      <td>-0.880000</td>\n",
       "      <td>0.000000</td>\n",
       "      <td>0.0</td>\n",
       "      <td>-0.120000</td>\n",
       "      <td>-4.440892e-17</td>\n",
       "      <td>16.940000</td>\n",
       "      <td>16.980000</td>\n",
       "    </tr>\n",
       "    <tr>\n",
       "      <th>16</th>\n",
       "      <td>44.272727</td>\n",
       "      <td>0.318182</td>\n",
       "      <td>165.000000</td>\n",
       "      <td>68.136364</td>\n",
       "      <td>92.136364</td>\n",
       "      <td>161.909091</td>\n",
       "      <td>365.090909</td>\n",
       "      <td>173.318182</td>\n",
       "      <td>89.590909</td>\n",
       "      <td>44.272727</td>\n",
       "      <td>...</td>\n",
       "      <td>-0.240909</td>\n",
       "      <td>-0.559091</td>\n",
       "      <td>9.359091</td>\n",
       "      <td>-1.404545</td>\n",
       "      <td>0.000000</td>\n",
       "      <td>0.0</td>\n",
       "      <td>0.522727</td>\n",
       "      <td>1.050000e+00</td>\n",
       "      <td>19.863636</td>\n",
       "      <td>29.681818</td>\n",
       "    </tr>\n",
       "  </tbody>\n",
       "</table>\n",
       "<p>13 rows × 278 columns</p>\n",
       "</div>"
      ],
      "text/plain": [
       "             Age       Sex      Height     Weight  QRS_duration  PR_interval  \\\n",
       "Class                                                                          \n",
       "1      46.273469  0.653061  164.102041  68.669388     84.277551   157.216327   \n",
       "2      51.750000  0.590909  163.068182  73.363636     89.818182   153.022727   \n",
       "3      53.333333  0.000000  170.600000  76.866667     93.333333   163.200000   \n",
       "4      57.266667  0.266667  166.000000  73.866667     89.866667   160.400000   \n",
       "5      30.846154  0.692308  233.615385  44.615385     88.000000   158.230769   \n",
       "6      47.920000  0.440000  165.040000  68.000000     83.160000   157.960000   \n",
       "7      60.666667  0.000000  178.000000  73.000000     96.333333   190.666667   \n",
       "8      71.000000  0.000000  176.500000  79.000000     98.500000   183.000000   \n",
       "9      58.222222  0.555556  155.666667  66.444444    154.444444   158.444444   \n",
       "10     38.920000  0.440000  163.520000  63.300000     97.580000   148.740000   \n",
       "14     19.500000  0.250000  156.000000  50.250000     99.250000   163.750000   \n",
       "15     57.400000  0.800000  161.400000  76.000000     88.400000     0.000000   \n",
       "16     44.272727  0.318182  165.000000  68.136364     92.136364   161.909091   \n",
       "\n",
       "       QT_interval  T_interval  P_interval  QRS_angle  ...  JJ_wave_V6_Amp  \\\n",
       "Class                                                  ...                   \n",
       "1       367.200000  162.918367   92.232653  36.787755  ...       -0.215918   \n",
       "2       369.568182  190.704545   87.454545  29.954545  ...       -0.765909   \n",
       "3       355.466667  201.800000   98.400000  17.400000  ...       -0.060000   \n",
       "4       352.133333  170.000000   94.000000   6.600000  ...       -0.186667   \n",
       "5       298.076923  154.000000   85.769231  47.076923  ...        0.138462   \n",
       "6       393.240000  152.880000   80.000000  28.240000  ...       -0.388000   \n",
       "7       365.333333  185.333333   98.000000   3.666667  ...       -0.433333   \n",
       "8       368.000000  185.000000  101.500000 -44.500000  ...        0.100000   \n",
       "9       439.444444  263.666667   90.333333  12.777778  ...       -2.066667   \n",
       "10      369.760000  169.320000   91.180000  31.980000  ...       -0.152000   \n",
       "14      361.750000  193.000000   99.000000  76.250000  ...       -0.650000   \n",
       "15      335.800000  152.000000    0.000000  59.600000  ...       -0.660000   \n",
       "16      365.090909  173.318182   89.590909  44.272727  ...       -0.240909   \n",
       "\n",
       "       Q_wave_V6_Amp  R_wave_V6_Amp  S_wave_V6_Amp  r_wave_V6_Amp  \\\n",
       "Class                                                               \n",
       "1          -0.193469       9.235510      -1.245714       0.005306   \n",
       "2          -0.238636       9.718182      -1.902273       0.000000   \n",
       "3          -0.533333       5.646667      -1.866667       0.000000   \n",
       "4          -0.946667       6.253333      -0.680000       0.033333   \n",
       "5          -0.315385       6.761538      -3.253846       0.000000   \n",
       "6          -0.152000       8.744000      -0.664000       0.000000   \n",
       "7          -0.333333      11.200000      -1.733333       0.000000   \n",
       "8           0.000000       6.600000      -3.650000       0.000000   \n",
       "9           0.000000       8.933333      -0.733333       0.000000   \n",
       "10         -0.386000       9.556000      -2.192000       0.000000   \n",
       "14         -0.800000      16.900000      -2.175000       0.000000   \n",
       "15         -0.460000       7.180000      -0.880000       0.000000   \n",
       "16         -0.559091       9.359091      -1.404545       0.000000   \n",
       "\n",
       "       s_wave_V6_Amp  P_wave_V6_Amp  T_wave_V6_Amp    QRSA_V6   QRSTA_V6  \n",
       "Class                                                                     \n",
       "1                0.0       0.522857   1.597959e+00  20.311429  33.836735  \n",
       "2                0.0       0.534091  -6.000000e-01  20.313636  13.795455  \n",
       "3                0.0       0.653333   4.666667e-01   7.466667  11.993333  \n",
       "4                0.0       0.693333   1.200000e-01  11.713333  12.206667  \n",
       "5                0.0       0.607692   1.476923e+00   4.876923  15.646154  \n",
       "6                0.0       0.404000   1.560000e+00  21.624000  33.804000  \n",
       "7                0.0       0.100000   1.400000e+00  22.466667  33.133333  \n",
       "8                0.0       0.650000   1.850000e+00   5.650000  23.650000  \n",
       "9                0.0       0.488889  -1.733333e+00  52.877778  31.055556  \n",
       "10               0.0       0.470000   1.992000e+00  15.210000  33.550000  \n",
       "14               0.0       0.625000   1.350000e+00  34.200000  42.950000  \n",
       "15               0.0      -0.120000  -4.440892e-17  16.940000  16.980000  \n",
       "16               0.0       0.522727   1.050000e+00  19.863636  29.681818  \n",
       "\n",
       "[13 rows x 278 columns]"
      ]
     },
     "execution_count": 36,
     "metadata": {},
     "output_type": "execute_result"
    }
   ],
   "source": [
    "data.groupby('Class').mean()"
   ]
  },
  {
   "cell_type": "markdown",
   "id": "n79U3jVrTfq_",
   "metadata": {
    "id": "n79U3jVrTfq_"
   },
   "source": [
    "In last column 'Class' are the correct class values, 1 to 16."
   ]
  },
  {
   "cell_type": "markdown",
   "id": "ILuQMZ2vTfq_",
   "metadata": {
    "id": "ILuQMZ2vTfq_"
   },
   "source": [
    "## Feature Selection"
   ]
  },
  {
   "cell_type": "markdown",
   "id": "JoS45NnzTfq_",
   "metadata": {
    "id": "JoS45NnzTfq_"
   },
   "source": [
    "### Feature Importance\n",
    "\n",
    "This method gives a score for each feature of the data. Higher the score, more relevant or important is the feature towards the output variable."
   ]
  },
  {
   "cell_type": "code",
   "execution_count": 37,
   "id": "LnKTFZPFTfrA",
   "metadata": {
    "id": "LnKTFZPFTfrA"
   },
   "outputs": [],
   "source": [
    "from sklearn.ensemble import ExtraTreesClassifier\n",
    "from sklearn.feature_selection import SelectFromModel\n",
    "from matplotlib import pyplot as plt"
   ]
  },
  {
   "cell_type": "code",
   "execution_count": 38,
   "id": "_e5mMDvOTfrA",
   "metadata": {
    "id": "_e5mMDvOTfrA"
   },
   "outputs": [],
   "source": [
    "X = data.drop(\"Class\", axis=1)\n",
    "y = data[\"Class\"]"
   ]
  },
  {
   "cell_type": "code",
   "execution_count": 39,
   "id": "F1wM2pmITfrA",
   "metadata": {
    "colab": {
     "base_uri": "https://localhost:8080/"
    },
    "id": "F1wM2pmITfrA",
    "outputId": "83145591-65de-4595-f6d2-4dc78236663a"
   },
   "outputs": [
    {
     "data": {
      "text/plain": [
       "((2260, 278), (2260,))"
      ]
     },
     "execution_count": 39,
     "metadata": {},
     "output_type": "execute_result"
    }
   ],
   "source": [
    "df1 = X; df2 = X; df3 = X; df4 = X; df5 = X\n",
    "y1 = y; y2 = y; y3 = y; y4 = y; y5 = y\n",
    "X_frames = [df1, df2, df3, df4, df5]\n",
    "y_frames = [y1, y2, y3, y4, y5]\n",
    "X_con = pd.concat(X_frames)\n",
    "y_con = pd.concat(y_frames)\n",
    "X_con.shape, y_con.shape"
   ]
  },
  {
   "cell_type": "code",
   "execution_count": 40,
   "id": "xAe5EzEmTfrA",
   "metadata": {
    "colab": {
     "base_uri": "https://localhost:8080/",
     "height": 265
    },
    "id": "xAe5EzEmTfrA",
    "outputId": "30324f08-3d65-482a-9228-88744c1a90aa",
    "scrolled": true
   },
   "outputs": [
    {
     "data": {
      "image/png": "[encoded data removed]",
      "text/plain": [
       "<Figure size 432x288 with 1 Axes>"
      ]
     },
     "metadata": {
      "needs_background": "light"
     },
     "output_type": "display_data"
    }
   ],
   "source": [
    "model = ExtraTreesClassifier()\n",
    "model.fit(X_con,y_con)\n",
    "feat_importances = pd.Series(model.feature_importances_, index=X_con.columns)\n",
    "feat_importances.nlargest(10).plot(kind='barh')\n",
    "plt.show()"
   ]
  },
  {
   "cell_type": "markdown",
   "id": "N34MmWTgTfrA",
   "metadata": {
    "id": "N34MmWTgTfrA"
   },
   "source": [
    "### Recursive Feature Elimination\n",
    "\n",
    "Recursively removes attributes and builds model on those attributes that remain."
   ]
  },
  {
   "cell_type": "code",
   "execution_count": 41,
   "id": "9-xDw-2oTfrA",
   "metadata": {
    "id": "9-xDw-2oTfrA"
   },
   "outputs": [],
   "source": [
    "from sklearn.model_selection import train_test_split\n",
    "from sklearn.linear_model import LinearRegression, RidgeCV, LassoCV, Ridge, Lasso, ElasticNet\n",
    "from sklearn.feature_selection import RFE\n",
    "from sklearn.svm import SVC"
   ]
  },
  {
   "cell_type": "code",
   "execution_count": 42,
   "id": "QfZQcyfWTfrA",
   "metadata": {
    "colab": {
     "base_uri": "https://localhost:8080/"
    },
    "id": "QfZQcyfWTfrA",
    "outputId": "8aa2f09f-e7de-4aa2-8802-37affdba49f8",
    "scrolled": true
   },
   "outputs": [
    {
     "name": "stdout",
     "output_type": "stream",
     "text": [
      "Index(['ragged_P_AVR', 'ragged_T_AVL', 'diphasic_der_P_AVF',\n",
      "       'diphasic_der_R_V1', 'diphasic_der_P_V2', 'ragged_T_V2',\n",
      "       'diphasic_der_P_V3', 'diphasic_der_P_V5', 'r_wave_DI_Amp',\n",
      "       's_wave_V4_Amp'],\n",
      "      dtype='object')\n"
     ]
    }
   ],
   "source": [
    "cols = list(X.columns)\n",
    "RFE_model = LinearRegression()\n",
    "\n",
    "#Initializing RFE model\n",
    "rfe = RFE(RFE_model, n_features_to_select=10)    \n",
    "\n",
    "#Transforming data using RFE\n",
    "X_rfe = rfe.fit_transform(X_con,y_con) \n",
    "\n",
    "#Fitting the data to model\n",
    "RFE_model.fit(X_rfe,y_con)              \n",
    "temp = pd.Series(rfe.support_,index = cols)\n",
    "selected_features_rfe = temp[temp==True].index\n",
    "print(selected_features_rfe)"
   ]
  },
  {
   "cell_type": "markdown",
   "id": "-GEqQXYvTfrB",
   "metadata": {
    "id": "-GEqQXYvTfrB"
   },
   "source": [
    "### Univariate Selection"
   ]
  },
  {
   "cell_type": "code",
   "execution_count": 43,
   "id": "kIi_LyZTTfrB",
   "metadata": {
    "id": "kIi_LyZTTfrB"
   },
   "outputs": [],
   "source": [
    "from sklearn.feature_selection import SelectKBest, f_classif, mutual_info_classif"
   ]
  },
  {
   "cell_type": "code",
   "execution_count": 44,
   "id": "QG1x9nLdTfrB",
   "metadata": {
    "colab": {
     "base_uri": "https://localhost:8080/"
    },
    "id": "QG1x9nLdTfrB",
    "outputId": "dc099e7e-4415-44bc-e217-8986f040627d",
    "scrolled": true
   },
   "outputs": [
    {
     "name": "stdout",
     "output_type": "stream",
     "text": [
      "                   Specs     Score\n",
      "13            Heart_rate  0.283178\n",
      "112  S_wave_V3_Avg_width  0.248753\n",
      "195       T_wave_AVR_Amp  0.246706\n",
      "275        T_wave_V6_Amp  0.219398\n",
      "226              QRSA_V1  0.218197\n",
      "88   S_wave_V1_Avg_width  0.214435\n",
      "100  S_wave_V2_Avg_width  0.200018\n",
      "10               T_angle  0.190163\n",
      "175       T_wave_DII_Amp  0.189638\n",
      "165        T_wave_DI_Amp  0.187169\n"
     ]
    }
   ],
   "source": [
    "best_feat = SelectKBest(score_func=mutual_info_classif, k=4)\n",
    "fit = best_feat.fit(X,y)\n",
    "dfscores = pd.DataFrame(fit.scores_)\n",
    "dfcolumns = pd.DataFrame(X.columns)\n",
    "#concat two dataframes for better visualization \n",
    "featureScores = pd.concat([dfcolumns,dfscores],axis=1)\n",
    "featureScores.columns = ['Specs','Score']  #naming the dataframe columns\n",
    "print(featureScores.nlargest(10,'Score'))  #print 10 best features"
   ]
  },
  {
   "cell_type": "markdown",
   "id": "t43qzgdNTfrB",
   "metadata": {
    "id": "t43qzgdNTfrB"
   },
   "source": [
    "### Random Forest Classifier"
   ]
  },
  {
   "cell_type": "code",
   "execution_count": 45,
   "id": "dgKMOiCLTfrB",
   "metadata": {
    "id": "dgKMOiCLTfrB"
   },
   "outputs": [],
   "source": [
    "from sklearn.model_selection import train_test_split, GridSearchCV\n",
    "from sklearn.ensemble import RandomForestClassifier\n",
    "from sklearn.feature_selection import SelectFromModel"
   ]
  },
  {
   "cell_type": "code",
   "execution_count": 46,
   "id": "Ks1xjPQETfrB",
   "metadata": {
    "colab": {
     "base_uri": "https://localhost:8080/"
    },
    "id": "Ks1xjPQETfrB",
    "outputId": "d08f2234-4256-4cf5-c97d-f6c7ff943de6"
   },
   "outputs": [
    {
     "data": {
      "text/plain": [
       "((1582, 278), (678, 278))"
      ]
     },
     "execution_count": 46,
     "metadata": {},
     "output_type": "execute_result"
    }
   ],
   "source": [
    "X_train, X_test, y_train, y_test = train_test_split(X_con, y_con, \n",
    "                                                   test_size=0.3, random_state=42)\n",
    "X_train.shape, X_test.shape"
   ]
  },
  {
   "cell_type": "code",
   "execution_count": 47,
   "id": "8Ahr8HCqTfrB",
   "metadata": {
    "colab": {
     "base_uri": "https://localhost:8080/"
    },
    "id": "8Ahr8HCqTfrB",
    "outputId": "277981b5-ec05-4412-8701-c16143184d84",
    "scrolled": true
   },
   "outputs": [
    {
     "name": "stderr",
     "output_type": "stream",
     "text": [
      "C:\\Users\\samio\\anaconda3\\lib\\site-packages\\sklearn\\ensemble\\_forest.py:541: UserWarning: Some inputs do not have OOB scores. This probably means too few trees were used to compute any reliable oob estimates.\n",
      "  warn(\"Some inputs do not have OOB scores. \"\n",
      "C:\\Users\\samio\\anaconda3\\lib\\site-packages\\sklearn\\ensemble\\_forest.py:545: RuntimeWarning: invalid value encountered in true_divide\n",
      "  decision = (predictions[k] /\n",
      "C:\\Users\\samio\\anaconda3\\lib\\site-packages\\sklearn\\ensemble\\_forest.py:541: UserWarning: Some inputs do not have OOB scores. This probably means too few trees were used to compute any reliable oob estimates.\n",
      "  warn(\"Some inputs do not have OOB scores. \"\n",
      "C:\\Users\\samio\\anaconda3\\lib\\site-packages\\sklearn\\ensemble\\_forest.py:545: RuntimeWarning: invalid value encountered in true_divide\n",
      "  decision = (predictions[k] /\n",
      "C:\\Users\\samio\\anaconda3\\lib\\site-packages\\sklearn\\ensemble\\_forest.py:541: UserWarning: Some inputs do not have OOB scores. This probably means too few trees were used to compute any reliable oob estimates.\n",
      "  warn(\"Some inputs do not have OOB scores. \"\n",
      "C:\\Users\\samio\\anaconda3\\lib\\site-packages\\sklearn\\ensemble\\_forest.py:545: RuntimeWarning: invalid value encountered in true_divide\n",
      "  decision = (predictions[k] /\n",
      "C:\\Users\\samio\\anaconda3\\lib\\site-packages\\sklearn\\ensemble\\_forest.py:541: UserWarning: Some inputs do not have OOB scores. This probably means too few trees were used to compute any reliable oob estimates.\n",
      "  warn(\"Some inputs do not have OOB scores. \"\n",
      "C:\\Users\\samio\\anaconda3\\lib\\site-packages\\sklearn\\ensemble\\_forest.py:545: RuntimeWarning: invalid value encountered in true_divide\n",
      "  decision = (predictions[k] /\n",
      "C:\\Users\\samio\\anaconda3\\lib\\site-packages\\sklearn\\ensemble\\_forest.py:541: UserWarning: Some inputs do not have OOB scores. This probably means too few trees were used to compute any reliable oob estimates.\n",
      "  warn(\"Some inputs do not have OOB scores. \"\n",
      "C:\\Users\\samio\\anaconda3\\lib\\site-packages\\sklearn\\ensemble\\_forest.py:545: RuntimeWarning: invalid value encountered in true_divide\n",
      "  decision = (predictions[k] /\n",
      "C:\\Users\\samio\\anaconda3\\lib\\site-packages\\sklearn\\ensemble\\_forest.py:541: UserWarning: Some inputs do not have OOB scores. This probably means too few trees were used to compute any reliable oob estimates.\n",
      "  warn(\"Some inputs do not have OOB scores. \"\n",
      "C:\\Users\\samio\\anaconda3\\lib\\site-packages\\sklearn\\ensemble\\_forest.py:545: RuntimeWarning: invalid value encountered in true_divide\n",
      "  decision = (predictions[k] /\n",
      "C:\\Users\\samio\\anaconda3\\lib\\site-packages\\sklearn\\ensemble\\_forest.py:541: UserWarning: Some inputs do not have OOB scores. This probably means too few trees were used to compute any reliable oob estimates.\n",
      "  warn(\"Some inputs do not have OOB scores. \"\n",
      "C:\\Users\\samio\\anaconda3\\lib\\site-packages\\sklearn\\ensemble\\_forest.py:545: RuntimeWarning: invalid value encountered in true_divide\n",
      "  decision = (predictions[k] /\n",
      "C:\\Users\\samio\\anaconda3\\lib\\site-packages\\sklearn\\ensemble\\_forest.py:541: UserWarning: Some inputs do not have OOB scores. This probably means too few trees were used to compute any reliable oob estimates.\n",
      "  warn(\"Some inputs do not have OOB scores. \"\n",
      "C:\\Users\\samio\\anaconda3\\lib\\site-packages\\sklearn\\ensemble\\_forest.py:545: RuntimeWarning: invalid value encountered in true_divide\n",
      "  decision = (predictions[k] /\n",
      "C:\\Users\\samio\\anaconda3\\lib\\site-packages\\sklearn\\ensemble\\_forest.py:541: UserWarning: Some inputs do not have OOB scores. This probably means too few trees were used to compute any reliable oob estimates.\n",
      "  warn(\"Some inputs do not have OOB scores. \"\n",
      "C:\\Users\\samio\\anaconda3\\lib\\site-packages\\sklearn\\ensemble\\_forest.py:545: RuntimeWarning: invalid value encountered in true_divide\n",
      "  decision = (predictions[k] /\n",
      "C:\\Users\\samio\\anaconda3\\lib\\site-packages\\sklearn\\ensemble\\_forest.py:541: UserWarning: Some inputs do not have OOB scores. This probably means too few trees were used to compute any reliable oob estimates.\n",
      "  warn(\"Some inputs do not have OOB scores. \"\n",
      "C:\\Users\\samio\\anaconda3\\lib\\site-packages\\sklearn\\ensemble\\_forest.py:545: RuntimeWarning: invalid value encountered in true_divide\n",
      "  decision = (predictions[k] /\n",
      "C:\\Users\\samio\\anaconda3\\lib\\site-packages\\sklearn\\ensemble\\_forest.py:541: UserWarning: Some inputs do not have OOB scores. This probably means too few trees were used to compute any reliable oob estimates.\n",
      "  warn(\"Some inputs do not have OOB scores. \"\n",
      "C:\\Users\\samio\\anaconda3\\lib\\site-packages\\sklearn\\ensemble\\_forest.py:545: RuntimeWarning: invalid value encountered in true_divide\n",
      "  decision = (predictions[k] /\n",
      "C:\\Users\\samio\\anaconda3\\lib\\site-packages\\sklearn\\ensemble\\_forest.py:541: UserWarning: Some inputs do not have OOB scores. This probably means too few trees were used to compute any reliable oob estimates.\n",
      "  warn(\"Some inputs do not have OOB scores. \"\n",
      "C:\\Users\\samio\\anaconda3\\lib\\site-packages\\sklearn\\ensemble\\_forest.py:545: RuntimeWarning: invalid value encountered in true_divide\n",
      "  decision = (predictions[k] /\n",
      "C:\\Users\\samio\\anaconda3\\lib\\site-packages\\sklearn\\ensemble\\_forest.py:541: UserWarning: Some inputs do not have OOB scores. This probably means too few trees were used to compute any reliable oob estimates.\n",
      "  warn(\"Some inputs do not have OOB scores. \"\n",
      "C:\\Users\\samio\\anaconda3\\lib\\site-packages\\sklearn\\ensemble\\_forest.py:545: RuntimeWarning: invalid value encountered in true_divide\n",
      "  decision = (predictions[k] /\n",
      "C:\\Users\\samio\\anaconda3\\lib\\site-packages\\sklearn\\ensemble\\_forest.py:541: UserWarning: Some inputs do not have OOB scores. This probably means too few trees were used to compute any reliable oob estimates.\n",
      "  warn(\"Some inputs do not have OOB scores. \"\n",
      "C:\\Users\\samio\\anaconda3\\lib\\site-packages\\sklearn\\ensemble\\_forest.py:545: RuntimeWarning: invalid value encountered in true_divide\n",
      "  decision = (predictions[k] /\n",
      "C:\\Users\\samio\\anaconda3\\lib\\site-packages\\sklearn\\ensemble\\_forest.py:541: UserWarning: Some inputs do not have OOB scores. This probably means too few trees were used to compute any reliable oob estimates.\n",
      "  warn(\"Some inputs do not have OOB scores. \"\n",
      "C:\\Users\\samio\\anaconda3\\lib\\site-packages\\sklearn\\ensemble\\_forest.py:545: RuntimeWarning: invalid value encountered in true_divide\n",
      "  decision = (predictions[k] /\n",
      "C:\\Users\\samio\\anaconda3\\lib\\site-packages\\sklearn\\ensemble\\_forest.py:541: UserWarning: Some inputs do not have OOB scores. This probably means too few trees were used to compute any reliable oob estimates.\n",
      "  warn(\"Some inputs do not have OOB scores. \"\n",
      "C:\\Users\\samio\\anaconda3\\lib\\site-packages\\sklearn\\ensemble\\_forest.py:545: RuntimeWarning: invalid value encountered in true_divide\n",
      "  decision = (predictions[k] /\n",
      "C:\\Users\\samio\\anaconda3\\lib\\site-packages\\sklearn\\ensemble\\_forest.py:541: UserWarning: Some inputs do not have OOB scores. This probably means too few trees were used to compute any reliable oob estimates.\n",
      "  warn(\"Some inputs do not have OOB scores. \"\n",
      "C:\\Users\\samio\\anaconda3\\lib\\site-packages\\sklearn\\ensemble\\_forest.py:545: RuntimeWarning: invalid value encountered in true_divide\n",
      "  decision = (predictions[k] /\n",
      "C:\\Users\\samio\\anaconda3\\lib\\site-packages\\sklearn\\ensemble\\_forest.py:541: UserWarning: Some inputs do not have OOB scores. This probably means too few trees were used to compute any reliable oob estimates.\n",
      "  warn(\"Some inputs do not have OOB scores. \"\n",
      "C:\\Users\\samio\\anaconda3\\lib\\site-packages\\sklearn\\ensemble\\_forest.py:545: RuntimeWarning: invalid value encountered in true_divide\n",
      "  decision = (predictions[k] /\n",
      "C:\\Users\\samio\\anaconda3\\lib\\site-packages\\sklearn\\ensemble\\_forest.py:541: UserWarning: Some inputs do not have OOB scores. This probably means too few trees were used to compute any reliable oob estimates.\n",
      "  warn(\"Some inputs do not have OOB scores. \"\n",
      "C:\\Users\\samio\\anaconda3\\lib\\site-packages\\sklearn\\ensemble\\_forest.py:545: RuntimeWarning: invalid value encountered in true_divide\n",
      "  decision = (predictions[k] /\n",
      "C:\\Users\\samio\\anaconda3\\lib\\site-packages\\sklearn\\ensemble\\_forest.py:541: UserWarning: Some inputs do not have OOB scores. This probably means too few trees were used to compute any reliable oob estimates.\n",
      "  warn(\"Some inputs do not have OOB scores. \"\n",
      "C:\\Users\\samio\\anaconda3\\lib\\site-packages\\sklearn\\ensemble\\_forest.py:545: RuntimeWarning: invalid value encountered in true_divide\n",
      "  decision = (predictions[k] /\n"
     ]
    },
    {
     "name": "stderr",
     "output_type": "stream",
     "text": [
      "C:\\Users\\samio\\anaconda3\\lib\\site-packages\\sklearn\\ensemble\\_forest.py:541: UserWarning: Some inputs do not have OOB scores. This probably means too few trees were used to compute any reliable oob estimates.\n",
      "  warn(\"Some inputs do not have OOB scores. \"\n",
      "C:\\Users\\samio\\anaconda3\\lib\\site-packages\\sklearn\\ensemble\\_forest.py:545: RuntimeWarning: invalid value encountered in true_divide\n",
      "  decision = (predictions[k] /\n",
      "C:\\Users\\samio\\anaconda3\\lib\\site-packages\\sklearn\\ensemble\\_forest.py:541: UserWarning: Some inputs do not have OOB scores. This probably means too few trees were used to compute any reliable oob estimates.\n",
      "  warn(\"Some inputs do not have OOB scores. \"\n",
      "C:\\Users\\samio\\anaconda3\\lib\\site-packages\\sklearn\\ensemble\\_forest.py:545: RuntimeWarning: invalid value encountered in true_divide\n",
      "  decision = (predictions[k] /\n",
      "C:\\Users\\samio\\anaconda3\\lib\\site-packages\\sklearn\\ensemble\\_forest.py:541: UserWarning: Some inputs do not have OOB scores. This probably means too few trees were used to compute any reliable oob estimates.\n",
      "  warn(\"Some inputs do not have OOB scores. \"\n",
      "C:\\Users\\samio\\anaconda3\\lib\\site-packages\\sklearn\\ensemble\\_forest.py:545: RuntimeWarning: invalid value encountered in true_divide\n",
      "  decision = (predictions[k] /\n",
      "C:\\Users\\samio\\anaconda3\\lib\\site-packages\\sklearn\\ensemble\\_forest.py:541: UserWarning: Some inputs do not have OOB scores. This probably means too few trees were used to compute any reliable oob estimates.\n",
      "  warn(\"Some inputs do not have OOB scores. \"\n",
      "C:\\Users\\samio\\anaconda3\\lib\\site-packages\\sklearn\\ensemble\\_forest.py:545: RuntimeWarning: invalid value encountered in true_divide\n",
      "  decision = (predictions[k] /\n",
      "C:\\Users\\samio\\anaconda3\\lib\\site-packages\\sklearn\\ensemble\\_forest.py:541: UserWarning: Some inputs do not have OOB scores. This probably means too few trees were used to compute any reliable oob estimates.\n",
      "  warn(\"Some inputs do not have OOB scores. \"\n",
      "C:\\Users\\samio\\anaconda3\\lib\\site-packages\\sklearn\\ensemble\\_forest.py:545: RuntimeWarning: invalid value encountered in true_divide\n",
      "  decision = (predictions[k] /\n",
      "C:\\Users\\samio\\anaconda3\\lib\\site-packages\\sklearn\\ensemble\\_forest.py:541: UserWarning: Some inputs do not have OOB scores. This probably means too few trees were used to compute any reliable oob estimates.\n",
      "  warn(\"Some inputs do not have OOB scores. \"\n",
      "C:\\Users\\samio\\anaconda3\\lib\\site-packages\\sklearn\\ensemble\\_forest.py:545: RuntimeWarning: invalid value encountered in true_divide\n",
      "  decision = (predictions[k] /\n",
      "C:\\Users\\samio\\anaconda3\\lib\\site-packages\\sklearn\\ensemble\\_forest.py:541: UserWarning: Some inputs do not have OOB scores. This probably means too few trees were used to compute any reliable oob estimates.\n",
      "  warn(\"Some inputs do not have OOB scores. \"\n",
      "C:\\Users\\samio\\anaconda3\\lib\\site-packages\\sklearn\\ensemble\\_forest.py:545: RuntimeWarning: invalid value encountered in true_divide\n",
      "  decision = (predictions[k] /\n",
      "C:\\Users\\samio\\anaconda3\\lib\\site-packages\\sklearn\\ensemble\\_forest.py:541: UserWarning: Some inputs do not have OOB scores. This probably means too few trees were used to compute any reliable oob estimates.\n",
      "  warn(\"Some inputs do not have OOB scores. \"\n",
      "C:\\Users\\samio\\anaconda3\\lib\\site-packages\\sklearn\\ensemble\\_forest.py:545: RuntimeWarning: invalid value encountered in true_divide\n",
      "  decision = (predictions[k] /\n",
      "C:\\Users\\samio\\anaconda3\\lib\\site-packages\\sklearn\\ensemble\\_forest.py:541: UserWarning: Some inputs do not have OOB scores. This probably means too few trees were used to compute any reliable oob estimates.\n",
      "  warn(\"Some inputs do not have OOB scores. \"\n",
      "C:\\Users\\samio\\anaconda3\\lib\\site-packages\\sklearn\\ensemble\\_forest.py:545: RuntimeWarning: invalid value encountered in true_divide\n",
      "  decision = (predictions[k] /\n",
      "C:\\Users\\samio\\anaconda3\\lib\\site-packages\\sklearn\\ensemble\\_forest.py:541: UserWarning: Some inputs do not have OOB scores. This probably means too few trees were used to compute any reliable oob estimates.\n",
      "  warn(\"Some inputs do not have OOB scores. \"\n",
      "C:\\Users\\samio\\anaconda3\\lib\\site-packages\\sklearn\\ensemble\\_forest.py:545: RuntimeWarning: invalid value encountered in true_divide\n",
      "  decision = (predictions[k] /\n"
     ]
    },
    {
     "name": "stdout",
     "output_type": "stream",
     "text": [
      "max_depth: 20; min_samples_leaf: 5; n_estimators: 100, oob_score: 0.9627054361567636\n"
     ]
    }
   ],
   "source": [
    "max_depth = [2,3,5,10,20]\n",
    "n_estimators = [10,25,30,50,100,200]\n",
    "min_samples_leaf = [5,10,20,50,100,200]\n",
    "oob_score = 0\n",
    "dpth = 0\n",
    "estimator = 0\n",
    "sample_leaf = 0\n",
    "for depth in max_depth:\n",
    "    for leaf in min_samples_leaf:\n",
    "        for est in n_estimators:\n",
    "            rf_classifier = RandomForestClassifier(random_state=42, n_jobs=-1, max_depth=depth, min_samples_leaf=leaf, n_estimators=est, oob_score=True)\n",
    "            rf_classifier.fit(X_train, y_train)\n",
    "            if rf_classifier.oob_score_ > oob_score:\n",
    "                dpth = depth\n",
    "                estimator = est\n",
    "                sample_leaf = leaf\n",
    "                oob_score = rf_classifier.oob_score_\n",
    "\n",
    "print('max_depth: {}; min_samples_leaf: {}; n_estimators: {}, oob_score: {}'.format(dpth, sample_leaf, estimator, oob_score))"
   ]
  },
  {
   "cell_type": "code",
   "execution_count": 48,
   "id": "fpxcJG_9TfrC",
   "metadata": {
    "colab": {
     "base_uri": "https://localhost:8080/"
    },
    "id": "fpxcJG_9TfrC",
    "outputId": "27bc74e7-b9ef-4e7b-c394-f769fd654c37",
    "scrolled": false
   },
   "outputs": [
    {
     "data": {
      "text/plain": [
       "RandomForestClassifier(max_depth=20, min_samples_leaf=5, n_jobs=-1,\n",
       "                       oob_score=True, random_state=42)"
      ]
     },
     "execution_count": 48,
     "metadata": {},
     "output_type": "execute_result"
    }
   ],
   "source": [
    "rf_best = RandomForestClassifier(random_state=42, n_jobs=-1, max_depth=20, min_samples_leaf=5, n_estimators=100, oob_score=True)\n",
    "rf_best.fit(X_train, y_train)"
   ]
  },
  {
   "cell_type": "code",
   "execution_count": 49,
   "id": "DrvtXMnJTfrC",
   "metadata": {
    "id": "DrvtXMnJTfrC"
   },
   "outputs": [],
   "source": [
    "y_pred = rf_best.predict(X_test)"
   ]
  },
  {
   "cell_type": "code",
   "execution_count": 50,
   "id": "P9ZhnSRuTfrC",
   "metadata": {
    "colab": {
     "base_uri": "https://localhost:8080/"
    },
    "id": "P9ZhnSRuTfrC",
    "outputId": "a5332e70-cbac-4626-fd86-a4713a5d8f61"
   },
   "outputs": [
    {
     "name": "stdout",
     "output_type": "stream",
     "text": [
      "Accuracy: 0.9646017699115044\n"
     ]
    }
   ],
   "source": [
    "from sklearn import metrics\n",
    "\n",
    "print(\"Accuracy:\", metrics.accuracy_score(y_test, y_pred))"
   ]
  },
  {
   "cell_type": "markdown",
   "id": "HIM0AqjvTfrC",
   "metadata": {
    "id": "HIM0AqjvTfrC"
   },
   "source": [
    "### Feature Importance\n",
    "\n",
    "This method gives a score for each feature of the data. Higher the score, more relevant or important is the feature towards the output variable."
   ]
  },
  {
   "cell_type": "code",
   "execution_count": 51,
   "id": "7g0NNtK9TfrC",
   "metadata": {
    "id": "7g0NNtK9TfrC"
   },
   "outputs": [],
   "source": [
    "z_score = []\n",
    "mean = rf_best.feature_importances_.mean()\n",
    "std = rf_best.feature_importances_.std()\n",
    "for i in range(len(rf_best.feature_importances_)):\n",
    "    z_score.append((rf_best.feature_importances_[i] - mean)/std)"
   ]
  },
  {
   "cell_type": "code",
   "execution_count": 52,
   "id": "cyvAX3pETfrC",
   "metadata": {
    "id": "cyvAX3pETfrC"
   },
   "outputs": [],
   "source": [
    "import numpy as np\n",
    "z_scr = np.array(z_score)"
   ]
  },
  {
   "cell_type": "code",
   "execution_count": 53,
   "id": "-uQhkTqPTfrD",
   "metadata": {
    "id": "-uQhkTqPTfrD"
   },
   "outputs": [],
   "source": [
    "imp_df = pd.DataFrame({\"Feature\": X_train.columns,\n",
    "                      \"Score\": z_scr})\n",
    "feat_ext = imp_df.sort_values(by=\"Score\", ascending=False)"
   ]
  },
  {
   "cell_type": "markdown",
   "id": "U1lL0rslTfrD",
   "metadata": {
    "id": "U1lL0rslTfrD"
   },
   "source": [
    "## Feature Extraction\n",
    "\n",
    "Based on z-score values obtained after classifying the data using Random Forest Classification, we sort (descending) the features according to their z-score values and choose those with positive values for building the model."
   ]
  },
  {
   "cell_type": "code",
   "execution_count": 54,
   "id": "Vzla99q-TfrD",
   "metadata": {
    "id": "Vzla99q-TfrD"
   },
   "outputs": [],
   "source": [
    "data_fe = data[feat_ext.iloc[:,0][0:10]]"
   ]
  },
  {
   "cell_type": "code",
   "execution_count": 55,
   "id": "2BOpuvoMTfrD",
   "metadata": {
    "colab": {
     "base_uri": "https://localhost:8080/",
     "height": 226
    },
    "id": "2BOpuvoMTfrD",
    "outputId": "e91f242e-e151-4338-b13a-5c8cf9caf5c8"
   },
   "outputs": [
    {
     "data": {
      "text/html": [
       "<div>\n",
       "<style scoped>\n",
       "    .dataframe tbody tr th:only-of-type {\n",
       "        vertical-align: middle;\n",
       "    }\n",
       "\n",
       "    .dataframe tbody tr th {\n",
       "        vertical-align: top;\n",
       "    }\n",
       "\n",
       "    .dataframe thead th {\n",
       "        text-align: right;\n",
       "    }\n",
       "</style>\n",
       "<table border=\"1\" class=\"dataframe\">\n",
       "  <thead>\n",
       "    <tr style=\"text-align: right;\">\n",
       "      <th></th>\n",
       "      <th>Heart_rate</th>\n",
       "      <th>r_wave_V1_Amp</th>\n",
       "      <th>T_wave_V6_Amp</th>\n",
       "      <th>T_wave_AVR_Amp</th>\n",
       "      <th>r_wave_V1_Avg_width</th>\n",
       "      <th>T_wave_V5_Amp</th>\n",
       "      <th>intrinsic_deflections_V1</th>\n",
       "      <th>T_wave_DII_Amp</th>\n",
       "      <th>QRSA_V1</th>\n",
       "      <th>QT_interval</th>\n",
       "    </tr>\n",
       "  </thead>\n",
       "  <tbody>\n",
       "    <tr>\n",
       "      <th>0</th>\n",
       "      <td>63.000000</td>\n",
       "      <td>0.0</td>\n",
       "      <td>2.9</td>\n",
       "      <td>-1.7</td>\n",
       "      <td>0</td>\n",
       "      <td>3.9</td>\n",
       "      <td>0</td>\n",
       "      <td>1.5</td>\n",
       "      <td>-24.0</td>\n",
       "      <td>371</td>\n",
       "    </tr>\n",
       "    <tr>\n",
       "      <th>1</th>\n",
       "      <td>53.000000</td>\n",
       "      <td>0.0</td>\n",
       "      <td>2.1</td>\n",
       "      <td>-1.6</td>\n",
       "      <td>0</td>\n",
       "      <td>2.6</td>\n",
       "      <td>16</td>\n",
       "      <td>1.7</td>\n",
       "      <td>-21.6</td>\n",
       "      <td>401</td>\n",
       "    </tr>\n",
       "    <tr>\n",
       "      <th>2</th>\n",
       "      <td>75.000000</td>\n",
       "      <td>6.5</td>\n",
       "      <td>3.4</td>\n",
       "      <td>-2.5</td>\n",
       "      <td>76</td>\n",
       "      <td>3.4</td>\n",
       "      <td>100</td>\n",
       "      <td>2.7</td>\n",
       "      <td>18.7</td>\n",
       "      <td>386</td>\n",
       "    </tr>\n",
       "    <tr>\n",
       "      <th>3</th>\n",
       "      <td>71.000000</td>\n",
       "      <td>0.0</td>\n",
       "      <td>2.6</td>\n",
       "      <td>-1.7</td>\n",
       "      <td>0</td>\n",
       "      <td>3.0</td>\n",
       "      <td>0</td>\n",
       "      <td>1.5</td>\n",
       "      <td>-18.2</td>\n",
       "      <td>380</td>\n",
       "    </tr>\n",
       "    <tr>\n",
       "      <th>4</th>\n",
       "      <td>74.463415</td>\n",
       "      <td>0.0</td>\n",
       "      <td>3.9</td>\n",
       "      <td>-1.5</td>\n",
       "      <td>0</td>\n",
       "      <td>2.9</td>\n",
       "      <td>0</td>\n",
       "      <td>1.7</td>\n",
       "      <td>-25.0</td>\n",
       "      <td>360</td>\n",
       "    </tr>\n",
       "  </tbody>\n",
       "</table>\n",
       "</div>"
      ],
      "text/plain": [
       "   Heart_rate  r_wave_V1_Amp  T_wave_V6_Amp  T_wave_AVR_Amp  \\\n",
       "0   63.000000            0.0            2.9            -1.7   \n",
       "1   53.000000            0.0            2.1            -1.6   \n",
       "2   75.000000            6.5            3.4            -2.5   \n",
       "3   71.000000            0.0            2.6            -1.7   \n",
       "4   74.463415            0.0            3.9            -1.5   \n",
       "\n",
       "   r_wave_V1_Avg_width  T_wave_V5_Amp  intrinsic_deflections_V1  \\\n",
       "0                    0            3.9                         0   \n",
       "1                    0            2.6                        16   \n",
       "2                   76            3.4                       100   \n",
       "3                    0            3.0                         0   \n",
       "4                    0            2.9                         0   \n",
       "\n",
       "   T_wave_DII_Amp  QRSA_V1  QT_interval  \n",
       "0             1.5    -24.0          371  \n",
       "1             1.7    -21.6          401  \n",
       "2             2.7     18.7          386  \n",
       "3             1.5    -18.2          380  \n",
       "4             1.7    -25.0          360  "
      ]
     },
     "execution_count": 55,
     "metadata": {},
     "output_type": "execute_result"
    }
   ],
   "source": [
    "data_fe.head()"
   ]
  },
  {
   "cell_type": "markdown",
   "id": "vPiDmTPcaxTj",
   "metadata": {
    "id": "vPiDmTPcaxTj"
   },
   "source": [
    "# Model Construction\n"
   ]
  },
  {
   "cell_type": "code",
   "execution_count": 56,
   "id": "JyvtkBxxbIGF",
   "metadata": {
    "id": "JyvtkBxxbIGF"
   },
   "outputs": [],
   "source": [
    "from sklearn.model_selection import train_test_split\n",
    "\n",
    "from sklearn.preprocessing import StandardScaler\n",
    "from sklearn.pipeline import Pipeline\n",
    "from sklearn import neighbors\n",
    "\n",
    "from sklearn.neural_network import MLPRegressor\n",
    "from sklearn.ensemble import ExtraTreesRegressor\n",
    "\n",
    "from sklearn.linear_model import LinearRegression, Ridge, Lasso, ElasticNet, LassoCV, ElasticNetCV\n",
    "from sklearn.ensemble import GradientBoostingRegressor\n",
    "from sklearn import svm, metrics\n",
    "\n",
    "import time\n",
    "import matplotlib.pyplot as plt\n",
    "from sklearn.metrics import r2_score\n",
    "from sklearn.model_selection import cross_val_score\n",
    "from sklearn.metrics import accuracy_score"
   ]
  },
  {
   "cell_type": "code",
   "execution_count": 57,
   "id": "5NPc5iRbbi7H",
   "metadata": {
    "id": "5NPc5iRbbi7H"
   },
   "outputs": [],
   "source": [
    "X_train, X_test, y_train, y_test = train_test_split(data_fe, y,test_size=0.25)"
   ]
  },
  {
   "cell_type": "markdown",
   "id": "AD3eKZ3Ua7_l",
   "metadata": {
    "id": "AD3eKZ3Ua7_l"
   },
   "source": [
    "## K-Nearest Neighbours\n"
   ]
  },
  {
   "cell_type": "markdown",
   "id": "8h4Q0ex1gVOs",
   "metadata": {
    "id": "8h4Q0ex1gVOs"
   },
   "source": []
  },
  {
   "cell_type": "code",
   "execution_count": 58,
   "id": "3Y95AWBqbROV",
   "metadata": {
    "id": "3Y95AWBqbROV"
   },
   "outputs": [],
   "source": [
    "n_neighbors=5\n",
    "\n",
    "start_time_knn = time.time()\n",
    "predictor_knn=Pipeline([('Scaling', StandardScaler()),('KNN', neighbors.KNeighborsClassifier(n_neighbors,weights='distance'))])\n",
    "predictor_knn.fit(X_train,y_train)\n",
    "end_time_knn= (time.time() - start_time_knn)\n",
    "\n",
    "start_time2_knn = time.time()\n",
    "yh_knn=predictor_knn.predict(X_train)\n",
    "end_time2_knn= (time.time() - start_time2_knn)\n",
    "\n",
    "yh_test_knn=predictor_knn.predict(X_test)"
   ]
  },
  {
   "cell_type": "code",
   "execution_count": 59,
   "id": "o4dnEsbaa7OF",
   "metadata": {
    "colab": {
     "base_uri": "https://localhost:8080/"
    },
    "id": "o4dnEsbaa7OF",
    "outputId": "61703c0b-ece0-435e-c0a0-f4b7e9aea46b"
   },
   "outputs": [
    {
     "name": "stdout",
     "output_type": "stream",
     "text": [
      "Training Time is %s seconds  0.0050013065338134766\n",
      "Prediction Time id %s seconds  0.004999876022338867\n",
      "Prediction accuracy in training set is 1.0\n",
      "Prediction accuracy in testing set is 0.5929203539823009\n",
      "Prediction accuracy in cv is           0.575098814229249\n"
     ]
    },
    {
     "name": "stderr",
     "output_type": "stream",
     "text": [
      "C:\\Users\\samio\\anaconda3\\lib\\site-packages\\sklearn\\model_selection\\_split.py:666: UserWarning: The least populated class in y has only 1 members, which is less than n_splits=5.\n",
      "  warnings.warn((\"The least populated class in y has only %d\"\n"
     ]
    }
   ],
   "source": [
    "cv_score_knn= cross_val_score(predictor_knn,X_test, y_test).mean()\n",
    "test_score_knn= metrics.accuracy_score(y_true=y_test, y_pred=yh_test_knn) \n",
    "train_score_knn= metrics.accuracy_score(y_true=y_train, y_pred=yh_knn)\n",
    "\n",
    "\n",
    "print(\"Training Time is %s seconds \" , end_time_knn)\n",
    "print(\"Prediction Time id %s seconds \", end_time2_knn)\n",
    "print(\"Prediction accuracy in training set is\", train_score_knn)\n",
    "print(\"Prediction accuracy in testing set is\", test_score_knn)\n",
    "print(\"Prediction accuracy in cv is          \", cv_score_knn)\n",
    "\n",
    "#there is a warning about an unpopulated class, but we can't really do something about it since it is linked to the data"
   ]
  },
  {
   "cell_type": "markdown",
   "id": "2w-kIh6-gXUN",
   "metadata": {
    "id": "2w-kIh6-gXUN"
   },
   "source": [
    "##Linear regression"
   ]
  },
  {
   "cell_type": "code",
   "execution_count": 60,
   "id": "JNnuVTHpgbIb",
   "metadata": {
    "id": "JNnuVTHpgbIb"
   },
   "outputs": [],
   "source": [
    "start_time_lin = time.time()\n",
    "predictor_lin=ElasticNet(alpha=0.2, l1_ratio=1)\n",
    "#predictor_lin = svm.SVC(kernel='linear')\n",
    "#predictor_lin = GradientBoostingRegressor(n_estimators=150)\n",
    "predictor_lin.fit(X_train,y_train)\n",
    "end_time_lin= (time.time() - start_time_lin)\n",
    "\n",
    "start_time2_lin = time.time()\n",
    "yh_lin=predictor_lin.predict(X_train)\n",
    "end_time2_lin= (time.time() - start_time_lin)\n",
    "\n",
    "yh_test_lin =predictor_lin.predict(X_test)"
   ]
  },
  {
   "cell_type": "code",
   "execution_count": 61,
   "id": "uGgcBN3ShJ1u",
   "metadata": {
    "colab": {
     "base_uri": "https://localhost:8080/"
    },
    "id": "uGgcBN3ShJ1u",
    "outputId": "f097dba7-385d-480b-d577-93744a6718a3"
   },
   "outputs": [
    {
     "name": "stdout",
     "output_type": "stream",
     "text": [
      "Training Time is %s seconds  0.0040073394775390625\n",
      "Prediction Time id %s seconds  0.0050067901611328125\n",
      "Prediction accuracy in training set is 0.18582516324506992\n",
      "Prediction accuracy in testing set is 0.15476946120205148\n",
      "Prediction accuracy in cv is           -0.14392083501001895\n"
     ]
    }
   ],
   "source": [
    "cv_score_lin= cross_val_score(predictor_lin,X_test, y_test).mean()\n",
    "test_score_lin= metrics.r2_score(y_true=y_test, y_pred=yh_test_lin) \n",
    "train_score_lin= metrics.r2_score(y_true=y_train, y_pred=yh_lin)\n",
    "\n",
    "\n",
    "print(\"Training Time is %s seconds \" , end_time_lin)\n",
    "print(\"Prediction Time id %s seconds \",end_time2_lin)\n",
    "print(\"Prediction accuracy in training set is\", train_score_lin)\n",
    "print(\"Prediction accuracy in testing set is\", test_score_lin)\n",
    "print(\"Prediction accuracy in cv is          \", cv_score_lin)"
   ]
  },
  {
   "cell_type": "markdown",
   "id": "bzH-xNRSgbog",
   "metadata": {
    "id": "bzH-xNRSgbog"
   },
   "source": [
    "##Neural Networks "
   ]
  },
  {
   "cell_type": "markdown",
   "id": "OxNgWmQLg9fI",
   "metadata": {
    "id": "OxNgWmQLg9fI"
   },
   "source": [
    "###MPL Regressor"
   ]
  },
  {
   "cell_type": "code",
   "execution_count": 62,
   "id": "SbtabSqchD4P",
   "metadata": {
    "id": "SbtabSqchD4P"
   },
   "outputs": [],
   "source": [
    "start_time_mlp = time.time()\n",
    "predictor_mlp = MLPRegressor(hidden_layer_sizes=(30,15),activation='relu', solver='lbfgs',early_stopping=True,max_iter=10000)\n",
    "predictor_mlp.fit(X=X_train, y=y_train)\n",
    "end_time_mlp= (time.time() - start_time_mlp)\n",
    "\n",
    "start_time2_mlp = time.time()\n",
    "yh_mlp = predictor_mlp.predict(X_train)\n",
    "end_time2_mlp = (time.time() - start_time2_mlp)\n",
    "\n",
    "yh_test_mlp = predictor_mlp.predict(X_test)"
   ]
  },
  {
   "cell_type": "code",
   "execution_count": 63,
   "id": "v_QK7xichJI2",
   "metadata": {
    "colab": {
     "base_uri": "https://localhost:8080/"
    },
    "id": "v_QK7xichJI2",
    "outputId": "a2152dde-229a-43d0-b2b3-dd1fd8c83453"
   },
   "outputs": [
    {
     "name": "stdout",
     "output_type": "stream",
     "text": [
      "Training Time is in seconds  0.33438897132873535\n",
      "Prediction Time is in seconds  0.0009996891021728516\n",
      "Prediction accuracy in training set is 0.3104705270095738\n",
      "Prediction accuracy in testing set is 0.13791275847920226\n",
      "Prediction accuracy in cv is           -1.1515958998067073\n"
     ]
    }
   ],
   "source": [
    "cv_score_mlp = cross_val_score(predictor_mlp,X_test, y_test).mean()\n",
    "test_score_mlp= metrics.r2_score(y_true=y_test, y_pred=yh_test_mlp) \n",
    "train_score_mlp = metrics.r2_score(y_true=y_train, y_pred=yh_mlp)\n",
    "\n",
    "\n",
    "print(\"Training Time is in seconds \" , end_time_mlp)\n",
    "print(\"Prediction Time is in seconds \",end_time2_mlp)\n",
    "print(\"Prediction accuracy in training set is\", train_score_mlp)\n",
    "print(\"Prediction accuracy in testing set is\", test_score_mlp)\n",
    "print(\"Prediction accuracy in cv is          \", cv_score_mlp)"
   ]
  },
  {
   "cell_type": "markdown",
   "id": "cziEQ1KjhEcU",
   "metadata": {
    "id": "cziEQ1KjhEcU"
   },
   "source": [
    "###ExtraTreeRegressor"
   ]
  },
  {
   "cell_type": "code",
   "execution_count": 64,
   "id": "i_dGibJ6hIMC",
   "metadata": {
    "id": "i_dGibJ6hIMC"
   },
   "outputs": [],
   "source": [
    "start_time_etr = time.time()\n",
    "predictor_etr = ExtraTreesRegressor(n_estimators=250,max_depth=4)\n",
    "predictor_etr.fit(X=X_train, y=y_train)\n",
    "end_time_etr= (time.time() - start_time_etr)\n",
    "\n",
    "start_time2_etr = time.time()\n",
    "yh_etr = predictor_etr.predict(X_train)\n",
    "end_time2_etr= (time.time() - start_time2_etr)\n",
    "\n",
    "yh_test_etr = predictor_etr.predict(X_test)"
   ]
  },
  {
   "cell_type": "code",
   "execution_count": 65,
   "id": "OSUPvAdjhIrL",
   "metadata": {
    "colab": {
     "base_uri": "https://localhost:8080/"
    },
    "id": "OSUPvAdjhIrL",
    "outputId": "f27312af-3159-474c-d48e-eb8a1ce4c184"
   },
   "outputs": [
    {
     "name": "stdout",
     "output_type": "stream",
     "text": [
      "Training Time is %s seconds  0.16413307189941406\n",
      "Prediction Time id %s seconds  0.014044523239135742\n",
      "Prediction accuracy in training set is 0.295864257132023\n",
      "Prediction accuracy in testing set is 0.17385144163887867\n",
      "Prediction accuracy in cv is           -0.08245509284290883\n"
     ]
    }
   ],
   "source": [
    "cv_score_etr= cross_val_score(predictor_etr,X_test, y_test).mean()\n",
    "test_score_etr= metrics.r2_score(y_true=y_test, y_pred=yh_test_etr) \n",
    "train_score_etr= metrics.r2_score(y_true=y_train, y_pred=yh_etr)\n",
    "\n",
    "\n",
    "print(\"Training Time is %s seconds \" , end_time_etr)\n",
    "print(\"Prediction Time id %s seconds \",end_time2_etr)\n",
    "print(\"Prediction accuracy in training set is\", train_score_etr)\n",
    "print(\"Prediction accuracy in testing set is\", test_score_etr)\n",
    "print(\"Prediction accuracy in cv is          \", cv_score_etr)"
   ]
  },
  {
   "cell_type": "markdown",
   "id": "ccd8c809",
   "metadata": {},
   "source": [
    "# Model validation and visualization"
   ]
  },
  {
   "cell_type": "markdown",
   "id": "e879c4bc",
   "metadata": {},
   "source": [
    "Out of several models the k-Nearest Neighbour was selected as it produced the highest accuracy. The model performance can be evaluated with confusion matrix and different scores."
   ]
  },
  {
   "cell_type": "code",
   "execution_count": 66,
   "id": "dfd0682a",
   "metadata": {},
   "outputs": [
    {
     "name": "stdout",
     "output_type": "stream",
     "text": [
      "[[193   0   0   0   0   0   0   0   0   0   0   0   0]\n",
      " [  0  28   0   0   0   0   0   0   0   0   0   0   0]\n",
      " [  0   0   7   0   0   0   0   0   0   0   0   0   0]\n",
      " [  0   0   0  11   0   0   0   0   0   0   0   0   0]\n",
      " [  0   0   0   0  11   0   0   0   0   0   0   0   0]\n",
      " [  0   0   0   0   0  21   0   0   0   0   0   0   0]\n",
      " [  0   0   0   0   0   0   2   0   0   0   0   0   0]\n",
      " [  0   0   0   0   0   0   0   1   0   0   0   0   0]\n",
      " [  0   0   0   0   0   0   0   0   6   0   0   0   0]\n",
      " [  0   0   0   0   0   0   0   0   0  36   0   0   0]\n",
      " [  0   0   0   0   0   0   0   0   0   0   3   0   0]\n",
      " [  0   0   0   0   0   0   0   0   0   0   0   4   0]\n",
      " [  0   0   0   0   0   0   0   0   0   0   0   0  16]]\n"
     ]
    },
    {
     "name": "stderr",
     "output_type": "stream",
     "text": [
      "C:\\Users\\samio\\anaconda3\\lib\\site-packages\\sklearn\\model_selection\\_split.py:666: UserWarning: The least populated class in y has only 1 members, which is less than n_splits=5.\n",
      "  warnings.warn((\"The least populated class in y has only %d\"\n"
     ]
    },
    {
     "name": "stdout",
     "output_type": "stream",
     "text": [
      "Accuracies for k-Nearest Neighbour model.\n",
      "Prediction accuracy in training set is 1.0\n",
      "Prediction accuracy in testing set is 0.5929203539823009\n",
      "Prediction accuracy in cross-validation is 0.575098814229249\n",
      "Prediction accuracy in leave-one-out cross-validation is 0.5663716814159292\n",
      "Prediction accuracy in K-fold cross-validation is 0.5681818181818181\n"
     ]
    }
   ],
   "source": [
    "from sklearn.metrics import confusion_matrix \n",
    "from sklearn.model_selection import LeaveOneOut as LOO\n",
    "from sklearn.model_selection import KFold\n",
    "\n",
    "\n",
    "#Confusion matrix\n",
    "CM = confusion_matrix(y_true = y_train, y_pred = yh_knn)\n",
    "print(CM)\n",
    "\n",
    "#Training set accuracy\n",
    "training_set_acc = predictor_knn.score(X_train, y_train)\n",
    "#Hold-out set accuracy\n",
    "test_set_acc = predictor_knn.score(X_test, y_test)\n",
    "#Cross-validation\n",
    "cv_score_val = cross_val_score(predictor_knn, X_test, y_test).mean()\n",
    "#Leave-one-out cross validation\n",
    "loocv = LOO()\n",
    "cv_score_loo_val = cross_val_score(predictor_knn, X_test, y_test, cv=loocv).mean()\n",
    "#KFold\n",
    "kfold = KFold(n_splits=10, random_state=100, shuffle=True)\n",
    "cv_score_kfold_val = cross_val_score(predictor_knn, X_test, y_test, cv=kfold).mean()\n",
    "\n",
    "print('Accuracies for k-Nearest Neighbour model.')\n",
    "print(\"Prediction accuracy in training set is\", training_set_acc)\n",
    "print(\"Prediction accuracy in testing set is\", test_set_acc)\n",
    "print(\"Prediction accuracy in cross-validation is\", cv_score_val)\n",
    "print(\"Prediction accuracy in leave-one-out cross-validation is\", cv_score_loo_val)\n",
    "print(\"Prediction accuracy in K-fold cross-validation is\", cv_score_kfold_val)"
   ]
  },
  {
   "cell_type": "code",
   "execution_count": 67,
   "id": "97b92d3f",
   "metadata": {},
   "outputs": [],
   "source": [
    "#Project the data so that it can be used for visualization\n",
    "from sklearn.manifold import TSNE\n",
    "\n",
    "tsneData = TSNE(n_components = 2, init = 'random').fit_transform(X_train)\n",
    "X_visual = tsneData[:,0]\n",
    "y_visual = tsneData[:,1]\n"
   ]
  },
  {
   "cell_type": "code",
   "execution_count": 68,
   "id": "132f2063",
   "metadata": {},
   "outputs": [
    {
     "data": {
      "image/png": "[encoded data removed]",
      "text/plain": [
       "<Figure size 432x288 with 2 Axes>"
      ]
     },
     "metadata": {
      "needs_background": "light"
     },
     "output_type": "display_data"
    }
   ],
   "source": [
    "#Scatter plot\n",
    "plt.scatter(X_visual, y_visual, c=yh_knn, cmap = 'rainbow', s=10)\n",
    "plt.colorbar()\n",
    "plt.grid(True)"
   ]
  },
  {
   "cell_type": "code",
   "execution_count": 69,
   "id": "6da817d0",
   "metadata": {},
   "outputs": [
    {
     "name": "stderr",
     "output_type": "stream",
     "text": [
      "C:\\Users\\samio\\anaconda3\\lib\\site-packages\\seaborn\\distributions.py:306: UserWarning: Dataset has 0 variance; skipping density estimate.\n",
      "  warnings.warn(msg, UserWarning)\n",
      "C:\\Users\\samio\\anaconda3\\lib\\site-packages\\seaborn\\distributions.py:306: UserWarning: Dataset has 0 variance; skipping density estimate.\n",
      "  warnings.warn(msg, UserWarning)\n"
     ]
    },
    {
     "data": {
      "text/plain": [
       "<seaborn.axisgrid.PairGrid at 0x185438cd520>"
      ]
     },
     "execution_count": 69,
     "metadata": {},
     "output_type": "execute_result"
    },
    {
     "data": {
      "image/png": "[encoded data removed]",
      "text/plain": [
       "<Figure size 408.75x360 with 6 Axes>"
      ]
     },
     "metadata": {
      "needs_background": "light"
     },
     "output_type": "display_data"
    }
   ],
   "source": [
    "#Turning result and projection into a dataframe to work with Seaborn\n",
    "df_visual = pd. DataFrame(tsneData, columns=['X', 'Y'])\n",
    "df_visual['Class'] = yh_knn.tolist()\n",
    "#Scatterplot matrix\n",
    "sns.pairplot(df_visual, hue='Class', palette='deep')"
   ]
  },
  {
   "cell_type": "code",
   "execution_count": 70,
   "id": "fb34aecd",
   "metadata": {},
   "outputs": [
    {
     "data": {
      "text/plain": [
       "<AxesSubplot:xlabel='X', ylabel='Y'>"
      ]
     },
     "execution_count": 70,
     "metadata": {},
     "output_type": "execute_result"
    },
    {
     "data": {
      "image/png": "[encoded data removed]",
      "text/plain": [
       "<Figure size 432x288 with 1 Axes>"
      ]
     },
     "metadata": {
      "needs_background": "light"
     },
     "output_type": "display_data"
    }
   ],
   "source": [
    "#Seaborn scatterplot, for comparison and whatnot\n",
    "\n",
    "sns.scatterplot(data=df_visual, x='X', y='Y', hue='Class', palette = 'deep', sizes='Class')\n"
   ]
  },
  {
   "cell_type": "code",
   "execution_count": null,
   "id": "52883da4",
   "metadata": {},
   "outputs": [],
   "source": []
  }
 ],
 "metadata": {
  "colab": {
   "collapsed_sections": [],
   "name": "ICAT3210_Applied_Machine_Learning_Project_work (1).ipynb",
   "provenance": []
  },
  "kernelspec": {
   "display_name": "Python 3 (ipykernel)",
   "language": "python",
   "name": "python3"
  },
  "language_info": {
   "codemirror_mode": {
    "name": "ipython",
    "version": 3
   },
   "file_extension": ".py",
   "mimetype": "text/x-python",
   "name": "python",
   "nbconvert_exporter": "python",
   "pygments_lexer": "ipython3",
   "version": "3.8.8"
  }
 },
 "nbformat": 4,
 "nbformat_minor": 5
}
